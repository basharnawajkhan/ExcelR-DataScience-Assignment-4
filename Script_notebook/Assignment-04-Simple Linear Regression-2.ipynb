{
 "cells": [
  {
   "cell_type": "markdown",
   "id": "3c9aa931",
   "metadata": {},
   "source": [
    "# Assignment-04-Simple Linear Regression-2"
   ]
  },
  {
   "cell_type": "code",
   "execution_count": 1,
   "id": "71902494",
   "metadata": {},
   "outputs": [],
   "source": [
    "import pandas as pd\n",
    "import numpy as np\n",
    "import seaborn as sns\n",
    "import matplotlib.pyplot as plt\n",
    "import statsmodels.formula.api as sm"
   ]
  },
  {
   "cell_type": "code",
   "execution_count": 2,
   "id": "2a5c2be0",
   "metadata": {},
   "outputs": [
    {
     "data": {
      "text/html": [
       "<div>\n",
       "<style scoped>\n",
       "    .dataframe tbody tr th:only-of-type {\n",
       "        vertical-align: middle;\n",
       "    }\n",
       "\n",
       "    .dataframe tbody tr th {\n",
       "        vertical-align: top;\n",
       "    }\n",
       "\n",
       "    .dataframe thead th {\n",
       "        text-align: right;\n",
       "    }\n",
       "</style>\n",
       "<table border=\"1\" class=\"dataframe\">\n",
       "  <thead>\n",
       "    <tr style=\"text-align: right;\">\n",
       "      <th></th>\n",
       "      <th>YearsExperience</th>\n",
       "      <th>Salary</th>\n",
       "    </tr>\n",
       "  </thead>\n",
       "  <tbody>\n",
       "    <tr>\n",
       "      <th>0</th>\n",
       "      <td>1.1</td>\n",
       "      <td>39343</td>\n",
       "    </tr>\n",
       "    <tr>\n",
       "      <th>1</th>\n",
       "      <td>1.3</td>\n",
       "      <td>46205</td>\n",
       "    </tr>\n",
       "    <tr>\n",
       "      <th>2</th>\n",
       "      <td>1.5</td>\n",
       "      <td>37731</td>\n",
       "    </tr>\n",
       "    <tr>\n",
       "      <th>3</th>\n",
       "      <td>2.0</td>\n",
       "      <td>43525</td>\n",
       "    </tr>\n",
       "    <tr>\n",
       "      <th>4</th>\n",
       "      <td>2.2</td>\n",
       "      <td>39891</td>\n",
       "    </tr>\n",
       "    <tr>\n",
       "      <th>5</th>\n",
       "      <td>2.9</td>\n",
       "      <td>56642</td>\n",
       "    </tr>\n",
       "    <tr>\n",
       "      <th>6</th>\n",
       "      <td>3.0</td>\n",
       "      <td>60150</td>\n",
       "    </tr>\n",
       "    <tr>\n",
       "      <th>7</th>\n",
       "      <td>3.2</td>\n",
       "      <td>54445</td>\n",
       "    </tr>\n",
       "    <tr>\n",
       "      <th>8</th>\n",
       "      <td>3.2</td>\n",
       "      <td>64445</td>\n",
       "    </tr>\n",
       "    <tr>\n",
       "      <th>9</th>\n",
       "      <td>3.7</td>\n",
       "      <td>57189</td>\n",
       "    </tr>\n",
       "    <tr>\n",
       "      <th>10</th>\n",
       "      <td>3.9</td>\n",
       "      <td>63218</td>\n",
       "    </tr>\n",
       "    <tr>\n",
       "      <th>11</th>\n",
       "      <td>4.0</td>\n",
       "      <td>55794</td>\n",
       "    </tr>\n",
       "    <tr>\n",
       "      <th>12</th>\n",
       "      <td>4.0</td>\n",
       "      <td>56957</td>\n",
       "    </tr>\n",
       "    <tr>\n",
       "      <th>13</th>\n",
       "      <td>4.1</td>\n",
       "      <td>57081</td>\n",
       "    </tr>\n",
       "    <tr>\n",
       "      <th>14</th>\n",
       "      <td>4.5</td>\n",
       "      <td>61111</td>\n",
       "    </tr>\n",
       "    <tr>\n",
       "      <th>15</th>\n",
       "      <td>4.9</td>\n",
       "      <td>67938</td>\n",
       "    </tr>\n",
       "    <tr>\n",
       "      <th>16</th>\n",
       "      <td>5.1</td>\n",
       "      <td>66029</td>\n",
       "    </tr>\n",
       "    <tr>\n",
       "      <th>17</th>\n",
       "      <td>5.3</td>\n",
       "      <td>83088</td>\n",
       "    </tr>\n",
       "    <tr>\n",
       "      <th>18</th>\n",
       "      <td>5.9</td>\n",
       "      <td>81363</td>\n",
       "    </tr>\n",
       "    <tr>\n",
       "      <th>19</th>\n",
       "      <td>6.0</td>\n",
       "      <td>93940</td>\n",
       "    </tr>\n",
       "    <tr>\n",
       "      <th>20</th>\n",
       "      <td>6.8</td>\n",
       "      <td>91738</td>\n",
       "    </tr>\n",
       "    <tr>\n",
       "      <th>21</th>\n",
       "      <td>7.1</td>\n",
       "      <td>98273</td>\n",
       "    </tr>\n",
       "    <tr>\n",
       "      <th>22</th>\n",
       "      <td>7.9</td>\n",
       "      <td>101302</td>\n",
       "    </tr>\n",
       "    <tr>\n",
       "      <th>23</th>\n",
       "      <td>8.2</td>\n",
       "      <td>113812</td>\n",
       "    </tr>\n",
       "    <tr>\n",
       "      <th>24</th>\n",
       "      <td>8.7</td>\n",
       "      <td>109431</td>\n",
       "    </tr>\n",
       "    <tr>\n",
       "      <th>25</th>\n",
       "      <td>9.0</td>\n",
       "      <td>105582</td>\n",
       "    </tr>\n",
       "    <tr>\n",
       "      <th>26</th>\n",
       "      <td>9.5</td>\n",
       "      <td>116969</td>\n",
       "    </tr>\n",
       "    <tr>\n",
       "      <th>27</th>\n",
       "      <td>9.6</td>\n",
       "      <td>112635</td>\n",
       "    </tr>\n",
       "    <tr>\n",
       "      <th>28</th>\n",
       "      <td>10.3</td>\n",
       "      <td>122391</td>\n",
       "    </tr>\n",
       "    <tr>\n",
       "      <th>29</th>\n",
       "      <td>10.5</td>\n",
       "      <td>121872</td>\n",
       "    </tr>\n",
       "  </tbody>\n",
       "</table>\n",
       "</div>"
      ],
      "text/plain": [
       "    YearsExperience  Salary\n",
       "0               1.1   39343\n",
       "1               1.3   46205\n",
       "2               1.5   37731\n",
       "3               2.0   43525\n",
       "4               2.2   39891\n",
       "5               2.9   56642\n",
       "6               3.0   60150\n",
       "7               3.2   54445\n",
       "8               3.2   64445\n",
       "9               3.7   57189\n",
       "10              3.9   63218\n",
       "11              4.0   55794\n",
       "12              4.0   56957\n",
       "13              4.1   57081\n",
       "14              4.5   61111\n",
       "15              4.9   67938\n",
       "16              5.1   66029\n",
       "17              5.3   83088\n",
       "18              5.9   81363\n",
       "19              6.0   93940\n",
       "20              6.8   91738\n",
       "21              7.1   98273\n",
       "22              7.9  101302\n",
       "23              8.2  113812\n",
       "24              8.7  109431\n",
       "25              9.0  105582\n",
       "26              9.5  116969\n",
       "27              9.6  112635\n",
       "28             10.3  122391\n",
       "29             10.5  121872"
      ]
     },
     "execution_count": 2,
     "metadata": {},
     "output_type": "execute_result"
    }
   ],
   "source": [
    "salary = pd.read_csv(\"C:/Users/BASHAR/OneDrive/Documents/Data Science/Assignment/Assignment - 4/Salary_Data.csv\")\n",
    "salary"
   ]
  },
  {
   "cell_type": "code",
   "execution_count": 3,
   "id": "34183ecc",
   "metadata": {},
   "outputs": [
    {
     "data": {
      "text/html": [
       "<div>\n",
       "<style scoped>\n",
       "    .dataframe tbody tr th:only-of-type {\n",
       "        vertical-align: middle;\n",
       "    }\n",
       "\n",
       "    .dataframe tbody tr th {\n",
       "        vertical-align: top;\n",
       "    }\n",
       "\n",
       "    .dataframe thead th {\n",
       "        text-align: right;\n",
       "    }\n",
       "</style>\n",
       "<table border=\"1\" class=\"dataframe\">\n",
       "  <thead>\n",
       "    <tr style=\"text-align: right;\">\n",
       "      <th></th>\n",
       "      <th>Y_Experience</th>\n",
       "      <th>Salary</th>\n",
       "    </tr>\n",
       "  </thead>\n",
       "  <tbody>\n",
       "    <tr>\n",
       "      <th>0</th>\n",
       "      <td>1.1</td>\n",
       "      <td>39343</td>\n",
       "    </tr>\n",
       "    <tr>\n",
       "      <th>1</th>\n",
       "      <td>1.3</td>\n",
       "      <td>46205</td>\n",
       "    </tr>\n",
       "    <tr>\n",
       "      <th>2</th>\n",
       "      <td>1.5</td>\n",
       "      <td>37731</td>\n",
       "    </tr>\n",
       "    <tr>\n",
       "      <th>3</th>\n",
       "      <td>2.0</td>\n",
       "      <td>43525</td>\n",
       "    </tr>\n",
       "    <tr>\n",
       "      <th>4</th>\n",
       "      <td>2.2</td>\n",
       "      <td>39891</td>\n",
       "    </tr>\n",
       "    <tr>\n",
       "      <th>5</th>\n",
       "      <td>2.9</td>\n",
       "      <td>56642</td>\n",
       "    </tr>\n",
       "    <tr>\n",
       "      <th>6</th>\n",
       "      <td>3.0</td>\n",
       "      <td>60150</td>\n",
       "    </tr>\n",
       "    <tr>\n",
       "      <th>7</th>\n",
       "      <td>3.2</td>\n",
       "      <td>54445</td>\n",
       "    </tr>\n",
       "    <tr>\n",
       "      <th>8</th>\n",
       "      <td>3.2</td>\n",
       "      <td>64445</td>\n",
       "    </tr>\n",
       "    <tr>\n",
       "      <th>9</th>\n",
       "      <td>3.7</td>\n",
       "      <td>57189</td>\n",
       "    </tr>\n",
       "    <tr>\n",
       "      <th>10</th>\n",
       "      <td>3.9</td>\n",
       "      <td>63218</td>\n",
       "    </tr>\n",
       "    <tr>\n",
       "      <th>11</th>\n",
       "      <td>4.0</td>\n",
       "      <td>55794</td>\n",
       "    </tr>\n",
       "    <tr>\n",
       "      <th>12</th>\n",
       "      <td>4.0</td>\n",
       "      <td>56957</td>\n",
       "    </tr>\n",
       "    <tr>\n",
       "      <th>13</th>\n",
       "      <td>4.1</td>\n",
       "      <td>57081</td>\n",
       "    </tr>\n",
       "    <tr>\n",
       "      <th>14</th>\n",
       "      <td>4.5</td>\n",
       "      <td>61111</td>\n",
       "    </tr>\n",
       "    <tr>\n",
       "      <th>15</th>\n",
       "      <td>4.9</td>\n",
       "      <td>67938</td>\n",
       "    </tr>\n",
       "    <tr>\n",
       "      <th>16</th>\n",
       "      <td>5.1</td>\n",
       "      <td>66029</td>\n",
       "    </tr>\n",
       "    <tr>\n",
       "      <th>17</th>\n",
       "      <td>5.3</td>\n",
       "      <td>83088</td>\n",
       "    </tr>\n",
       "    <tr>\n",
       "      <th>18</th>\n",
       "      <td>5.9</td>\n",
       "      <td>81363</td>\n",
       "    </tr>\n",
       "    <tr>\n",
       "      <th>19</th>\n",
       "      <td>6.0</td>\n",
       "      <td>93940</td>\n",
       "    </tr>\n",
       "    <tr>\n",
       "      <th>20</th>\n",
       "      <td>6.8</td>\n",
       "      <td>91738</td>\n",
       "    </tr>\n",
       "    <tr>\n",
       "      <th>21</th>\n",
       "      <td>7.1</td>\n",
       "      <td>98273</td>\n",
       "    </tr>\n",
       "    <tr>\n",
       "      <th>22</th>\n",
       "      <td>7.9</td>\n",
       "      <td>101302</td>\n",
       "    </tr>\n",
       "    <tr>\n",
       "      <th>23</th>\n",
       "      <td>8.2</td>\n",
       "      <td>113812</td>\n",
       "    </tr>\n",
       "    <tr>\n",
       "      <th>24</th>\n",
       "      <td>8.7</td>\n",
       "      <td>109431</td>\n",
       "    </tr>\n",
       "    <tr>\n",
       "      <th>25</th>\n",
       "      <td>9.0</td>\n",
       "      <td>105582</td>\n",
       "    </tr>\n",
       "    <tr>\n",
       "      <th>26</th>\n",
       "      <td>9.5</td>\n",
       "      <td>116969</td>\n",
       "    </tr>\n",
       "    <tr>\n",
       "      <th>27</th>\n",
       "      <td>9.6</td>\n",
       "      <td>112635</td>\n",
       "    </tr>\n",
       "    <tr>\n",
       "      <th>28</th>\n",
       "      <td>10.3</td>\n",
       "      <td>122391</td>\n",
       "    </tr>\n",
       "    <tr>\n",
       "      <th>29</th>\n",
       "      <td>10.5</td>\n",
       "      <td>121872</td>\n",
       "    </tr>\n",
       "  </tbody>\n",
       "</table>\n",
       "</div>"
      ],
      "text/plain": [
       "    Y_Experience  Salary\n",
       "0            1.1   39343\n",
       "1            1.3   46205\n",
       "2            1.5   37731\n",
       "3            2.0   43525\n",
       "4            2.2   39891\n",
       "5            2.9   56642\n",
       "6            3.0   60150\n",
       "7            3.2   54445\n",
       "8            3.2   64445\n",
       "9            3.7   57189\n",
       "10           3.9   63218\n",
       "11           4.0   55794\n",
       "12           4.0   56957\n",
       "13           4.1   57081\n",
       "14           4.5   61111\n",
       "15           4.9   67938\n",
       "16           5.1   66029\n",
       "17           5.3   83088\n",
       "18           5.9   81363\n",
       "19           6.0   93940\n",
       "20           6.8   91738\n",
       "21           7.1   98273\n",
       "22           7.9  101302\n",
       "23           8.2  113812\n",
       "24           8.7  109431\n",
       "25           9.0  105582\n",
       "26           9.5  116969\n",
       "27           9.6  112635\n",
       "28          10.3  122391\n",
       "29          10.5  121872"
      ]
     },
     "execution_count": 3,
     "metadata": {},
     "output_type": "execute_result"
    }
   ],
   "source": [
    "salary = salary.rename({\"YearsExperience\" : \"Y_Experience\"}, axis=1)\n",
    "salary"
   ]
  },
  {
   "cell_type": "markdown",
   "id": "e7637921",
   "metadata": {},
   "source": [
    "# EDA and Data Visualization"
   ]
  },
  {
   "cell_type": "code",
   "execution_count": 4,
   "id": "cc2662e6",
   "metadata": {},
   "outputs": [
    {
     "name": "stdout",
     "output_type": "stream",
     "text": [
      "<class 'pandas.core.frame.DataFrame'>\n",
      "RangeIndex: 30 entries, 0 to 29\n",
      "Data columns (total 2 columns):\n",
      " #   Column        Non-Null Count  Dtype  \n",
      "---  ------        --------------  -----  \n",
      " 0   Y_Experience  30 non-null     float64\n",
      " 1   Salary        30 non-null     int64  \n",
      "dtypes: float64(1), int64(1)\n",
      "memory usage: 608.0 bytes\n"
     ]
    }
   ],
   "source": [
    "salary.info()"
   ]
  },
  {
   "cell_type": "raw",
   "id": "81d4b238",
   "metadata": {},
   "source": [
    "##As the given data does not contain any 'nan' values also the data types are correct, hence no need to perform EDA on the given data."
   ]
  },
  {
   "cell_type": "code",
   "execution_count": 5,
   "id": "92d42ec7",
   "metadata": {},
   "outputs": [
    {
     "name": "stderr",
     "output_type": "stream",
     "text": [
      "C:\\ProgramData\\Anaconda3\\lib\\site-packages\\seaborn\\distributions.py:2619: FutureWarning: `distplot` is a deprecated function and will be removed in a future version. Please adapt your code to use either `displot` (a figure-level function with similar flexibility) or `histplot` (an axes-level function for histograms).\n",
      "  warnings.warn(msg, FutureWarning)\n"
     ]
    },
    {
     "data": {
      "text/plain": [
       "<AxesSubplot:xlabel='Y_Experience', ylabel='Density'>"
      ]
     },
     "execution_count": 5,
     "metadata": {},
     "output_type": "execute_result"
    },
    {
     "data": {
      "image/png": "[encoded data removed]",
      "text/plain": [
       "<Figure size 432x288 with 1 Axes>"
      ]
     },
     "metadata": {
      "needs_background": "light"
     },
     "output_type": "display_data"
    }
   ],
   "source": [
    "sns.distplot(salary[\"Y_Experience\"])"
   ]
  },
  {
   "cell_type": "code",
   "execution_count": 6,
   "id": "8d84297e",
   "metadata": {},
   "outputs": [
    {
     "name": "stderr",
     "output_type": "stream",
     "text": [
      "C:\\ProgramData\\Anaconda3\\lib\\site-packages\\seaborn\\distributions.py:2619: FutureWarning: `distplot` is a deprecated function and will be removed in a future version. Please adapt your code to use either `displot` (a figure-level function with similar flexibility) or `histplot` (an axes-level function for histograms).\n",
      "  warnings.warn(msg, FutureWarning)\n"
     ]
    },
    {
     "data": {
      "text/plain": [
       "<AxesSubplot:xlabel='Salary', ylabel='Density'>"
      ]
     },
     "execution_count": 6,
     "metadata": {},
     "output_type": "execute_result"
    },
    {
     "data": {
      "image/png": "[encoded data removed]",
      "text/plain": [
       "<Figure size 432x288 with 1 Axes>"
      ]
     },
     "metadata": {
      "needs_background": "light"
     },
     "output_type": "display_data"
    }
   ],
   "source": [
    "sns.distplot(salary[\"Salary\"])"
   ]
  },
  {
   "cell_type": "code",
   "execution_count": 8,
   "id": "d0155a0d",
   "metadata": {},
   "outputs": [
    {
     "data": {
      "image/png": "[encoded data removed]",
      "text/plain": [
       "<Figure size 432x288 with 1 Axes>"
      ]
     },
     "metadata": {
      "needs_background": "light"
     },
     "output_type": "display_data"
    }
   ],
   "source": [
    "plt.scatter(x=\"Y_Experience\", y=\"Salary\", data=salary)\n",
    "plt.title('Scatter plot Salary Hike')\n",
    "plt.xlabel('Y_Experience')\n",
    "plt.ylabel('Salary')\n",
    "plt.show()"
   ]
  },
  {
   "cell_type": "code",
   "execution_count": 9,
   "id": "328939e1",
   "metadata": {},
   "outputs": [
    {
     "data": {
      "text/plain": [
       "<AxesSubplot:>"
      ]
     },
     "execution_count": 9,
     "metadata": {},
     "output_type": "execute_result"
    },
    {
     "data": {
      "image/png": "[encoded data removed]",
      "text/plain": [
       "<Figure size 432x288 with 1 Axes>"
      ]
     },
     "metadata": {
      "needs_background": "light"
     },
     "output_type": "display_data"
    }
   ],
   "source": [
    "salary.boxplot(column=['Y_Experience'])"
   ]
  },
  {
   "cell_type": "code",
   "execution_count": 10,
   "id": "d0c3e420",
   "metadata": {},
   "outputs": [
    {
     "data": {
      "text/plain": [
       "<AxesSubplot:>"
      ]
     },
     "execution_count": 10,
     "metadata": {},
     "output_type": "execute_result"
    },
    {
     "data": {
      "image/png": "[encoded data removed]",
      "text/plain": [
       "<Figure size 432x288 with 1 Axes>"
      ]
     },
     "metadata": {
      "needs_background": "light"
     },
     "output_type": "display_data"
    }
   ],
   "source": [
    "salary.boxplot(column=['Salary'])"
   ]
  },
  {
   "cell_type": "code",
   "execution_count": 11,
   "id": "cbc98582",
   "metadata": {},
   "outputs": [
    {
     "data": {
      "text/plain": [
       "<seaborn.axisgrid.PairGrid at 0x19598f2e820>"
      ]
     },
     "execution_count": 11,
     "metadata": {},
     "output_type": "execute_result"
    },
    {
     "data": {
      "image/png": "[encoded data removed]",
      "text/plain": [
       "<Figure size 360x360 with 6 Axes>"
      ]
     },
     "metadata": {
      "needs_background": "light"
     },
     "output_type": "display_data"
    }
   ],
   "source": [
    "sns.pairplot(salary)"
   ]
  },
  {
   "cell_type": "markdown",
   "id": "916aaa2b",
   "metadata": {},
   "source": [
    "# Correlation Analysis"
   ]
  },
  {
   "cell_type": "code",
   "execution_count": 12,
   "id": "3b27b5c5",
   "metadata": {},
   "outputs": [
    {
     "data": {
      "text/html": [
       "<div>\n",
       "<style scoped>\n",
       "    .dataframe tbody tr th:only-of-type {\n",
       "        vertical-align: middle;\n",
       "    }\n",
       "\n",
       "    .dataframe tbody tr th {\n",
       "        vertical-align: top;\n",
       "    }\n",
       "\n",
       "    .dataframe thead th {\n",
       "        text-align: right;\n",
       "    }\n",
       "</style>\n",
       "<table border=\"1\" class=\"dataframe\">\n",
       "  <thead>\n",
       "    <tr style=\"text-align: right;\">\n",
       "      <th></th>\n",
       "      <th>Y_Experience</th>\n",
       "      <th>Salary</th>\n",
       "    </tr>\n",
       "  </thead>\n",
       "  <tbody>\n",
       "    <tr>\n",
       "      <th>Y_Experience</th>\n",
       "      <td>1.000000</td>\n",
       "      <td>0.978242</td>\n",
       "    </tr>\n",
       "    <tr>\n",
       "      <th>Salary</th>\n",
       "      <td>0.978242</td>\n",
       "      <td>1.000000</td>\n",
       "    </tr>\n",
       "  </tbody>\n",
       "</table>\n",
       "</div>"
      ],
      "text/plain": [
       "              Y_Experience    Salary\n",
       "Y_Experience      1.000000  0.978242\n",
       "Salary            0.978242  1.000000"
      ]
     },
     "execution_count": 12,
     "metadata": {},
     "output_type": "execute_result"
    }
   ],
   "source": [
    "salary.corr()"
   ]
  },
  {
   "cell_type": "code",
   "execution_count": 13,
   "id": "20fd82ba",
   "metadata": {},
   "outputs": [
    {
     "data": {
      "text/plain": [
       "<AxesSubplot:xlabel='Y_Experience', ylabel='Salary'>"
      ]
     },
     "execution_count": 13,
     "metadata": {},
     "output_type": "execute_result"
    },
    {
     "data": {
      "image/png": "[encoded data removed]",
      "text/plain": [
       "<Figure size 432x288 with 1 Axes>"
      ]
     },
     "metadata": {
      "needs_background": "light"
     },
     "output_type": "display_data"
    }
   ],
   "source": [
    "sns.regplot(x=\"Y_Experience\", y=\"Salary\", data=salary)"
   ]
  },
  {
   "cell_type": "markdown",
   "id": "8ada8b7d",
   "metadata": {},
   "source": [
    "# Model Building\n",
    "# 1 - No Tranformation"
   ]
  },
  {
   "cell_type": "code",
   "execution_count": 15,
   "id": "008e2600",
   "metadata": {},
   "outputs": [],
   "source": [
    "x= salary[\"Y_Experience\"]\n",
    "y= salary[\"Salary\"]"
   ]
  },
  {
   "cell_type": "code",
   "execution_count": 16,
   "id": "1cb811ce",
   "metadata": {},
   "outputs": [
    {
     "data": {
      "text/plain": [
       "0      36187.158752\n",
       "1      38077.151217\n",
       "2      39967.143681\n",
       "3      44692.124842\n",
       "4      46582.117306\n",
       "5      53197.090931\n",
       "6      54142.087163\n",
       "7      56032.079627\n",
       "8      56032.079627\n",
       "9      60757.060788\n",
       "10     62647.053252\n",
       "11     63592.049484\n",
       "12     63592.049484\n",
       "13     64537.045717\n",
       "14     68317.030645\n",
       "15     72097.015574\n",
       "16     73987.008038\n",
       "17     75877.000502\n",
       "18     81546.977895\n",
       "19     82491.974127\n",
       "20     90051.943985\n",
       "21     92886.932681\n",
       "22    100446.902538\n",
       "23    103281.891235\n",
       "24    108006.872395\n",
       "25    110841.861092\n",
       "26    115566.842252\n",
       "27    116511.838485\n",
       "28    123126.812110\n",
       "29    125016.804574\n",
       "dtype: float64"
      ]
     },
     "execution_count": 16,
     "metadata": {},
     "output_type": "execute_result"
    }
   ],
   "source": [
    "model_1 = sm.ols(\"y~x\", data=salary).fit()\n",
    "model_1.predict(salary)"
   ]
  },
  {
   "cell_type": "code",
   "execution_count": 17,
   "id": "00b2067c",
   "metadata": {},
   "outputs": [
    {
     "data": {
      "text/html": [
       "<table class=\"simpletable\">\n",
       "<caption>OLS Regression Results</caption>\n",
       "<tr>\n",
       "  <th>Dep. Variable:</th>            <td>y</td>        <th>  R-squared:         </th> <td>   0.957</td>\n",
       "</tr>\n",
       "<tr>\n",
       "  <th>Model:</th>                   <td>OLS</td>       <th>  Adj. R-squared:    </th> <td>   0.955</td>\n",
       "</tr>\n",
       "<tr>\n",
       "  <th>Method:</th>             <td>Least Squares</td>  <th>  F-statistic:       </th> <td>   622.5</td>\n",
       "</tr>\n",
       "<tr>\n",
       "  <th>Date:</th>             <td>Mon, 06 Jun 2022</td> <th>  Prob (F-statistic):</th> <td>1.14e-20</td>\n",
       "</tr>\n",
       "<tr>\n",
       "  <th>Time:</th>                 <td>12:05:45</td>     <th>  Log-Likelihood:    </th> <td> -301.44</td>\n",
       "</tr>\n",
       "<tr>\n",
       "  <th>No. Observations:</th>      <td>    30</td>      <th>  AIC:               </th> <td>   606.9</td>\n",
       "</tr>\n",
       "<tr>\n",
       "  <th>Df Residuals:</th>          <td>    28</td>      <th>  BIC:               </th> <td>   609.7</td>\n",
       "</tr>\n",
       "<tr>\n",
       "  <th>Df Model:</th>              <td>     1</td>      <th>                     </th>     <td> </td>   \n",
       "</tr>\n",
       "<tr>\n",
       "  <th>Covariance Type:</th>      <td>nonrobust</td>    <th>                     </th>     <td> </td>   \n",
       "</tr>\n",
       "</table>\n",
       "<table class=\"simpletable\">\n",
       "<tr>\n",
       "      <td></td>         <th>coef</th>     <th>std err</th>      <th>t</th>      <th>P>|t|</th>  <th>[0.025</th>    <th>0.975]</th>  \n",
       "</tr>\n",
       "<tr>\n",
       "  <th>Intercept</th> <td> 2.579e+04</td> <td> 2273.053</td> <td>   11.347</td> <td> 0.000</td> <td> 2.11e+04</td> <td> 3.04e+04</td>\n",
       "</tr>\n",
       "<tr>\n",
       "  <th>x</th>         <td> 9449.9623</td> <td>  378.755</td> <td>   24.950</td> <td> 0.000</td> <td> 8674.119</td> <td> 1.02e+04</td>\n",
       "</tr>\n",
       "</table>\n",
       "<table class=\"simpletable\">\n",
       "<tr>\n",
       "  <th>Omnibus:</th>       <td> 2.140</td> <th>  Durbin-Watson:     </th> <td>   1.648</td>\n",
       "</tr>\n",
       "<tr>\n",
       "  <th>Prob(Omnibus):</th> <td> 0.343</td> <th>  Jarque-Bera (JB):  </th> <td>   1.569</td>\n",
       "</tr>\n",
       "<tr>\n",
       "  <th>Skew:</th>          <td> 0.363</td> <th>  Prob(JB):          </th> <td>   0.456</td>\n",
       "</tr>\n",
       "<tr>\n",
       "  <th>Kurtosis:</th>      <td> 2.147</td> <th>  Cond. No.          </th> <td>    13.2</td>\n",
       "</tr>\n",
       "</table><br/><br/>Notes:<br/>[1] Standard Errors assume that the covariance matrix of the errors is correctly specified."
      ],
      "text/plain": [
       "<class 'statsmodels.iolib.summary.Summary'>\n",
       "\"\"\"\n",
       "                            OLS Regression Results                            \n",
       "==============================================================================\n",
       "Dep. Variable:                      y   R-squared:                       0.957\n",
       "Model:                            OLS   Adj. R-squared:                  0.955\n",
       "Method:                 Least Squares   F-statistic:                     622.5\n",
       "Date:                Mon, 06 Jun 2022   Prob (F-statistic):           1.14e-20\n",
       "Time:                        12:05:45   Log-Likelihood:                -301.44\n",
       "No. Observations:                  30   AIC:                             606.9\n",
       "Df Residuals:                      28   BIC:                             609.7\n",
       "Df Model:                           1                                         \n",
       "Covariance Type:            nonrobust                                         \n",
       "==============================================================================\n",
       "                 coef    std err          t      P>|t|      [0.025      0.975]\n",
       "------------------------------------------------------------------------------\n",
       "Intercept   2.579e+04   2273.053     11.347      0.000    2.11e+04    3.04e+04\n",
       "x           9449.9623    378.755     24.950      0.000    8674.119    1.02e+04\n",
       "==============================================================================\n",
       "Omnibus:                        2.140   Durbin-Watson:                   1.648\n",
       "Prob(Omnibus):                  0.343   Jarque-Bera (JB):                1.569\n",
       "Skew:                           0.363   Prob(JB):                        0.456\n",
       "Kurtosis:                       2.147   Cond. No.                         13.2\n",
       "==============================================================================\n",
       "\n",
       "Notes:\n",
       "[1] Standard Errors assume that the covariance matrix of the errors is correctly specified.\n",
       "\"\"\""
      ]
     },
     "execution_count": 17,
     "metadata": {},
     "output_type": "execute_result"
    }
   ],
   "source": [
    "model_1.summary()"
   ]
  },
  {
   "cell_type": "markdown",
   "id": "547bbae4",
   "metadata": {},
   "source": [
    "# 2 - Log Transformation of X"
   ]
  },
  {
   "cell_type": "code",
   "execution_count": 18,
   "id": "e137fbaa",
   "metadata": {},
   "outputs": [
    {
     "data": {
      "text/plain": [
       "0      18795.848339\n",
       "1      25575.235192\n",
       "2      31382.551905\n",
       "3      43057.262306\n",
       "4      46925.138875\n",
       "5      58136.050079\n",
       "6      59511.842441\n",
       "7      62130.943929\n",
       "8      62130.943929\n",
       "9      68022.718504\n",
       "10     70159.105863\n",
       "11     71186.552842\n",
       "12     71186.552842\n",
       "13     72188.628149\n",
       "14     75966.422577\n",
       "15     79422.295729\n",
       "16     81045.791737\n",
       "17     82606.829882\n",
       "18     86959.066704\n",
       "19     87641.132977\n",
       "20     92720.502137\n",
       "21     94472.514696\n",
       "22     98805.371390\n",
       "23    100317.918684\n",
       "24    102719.920751\n",
       "25    104095.713112\n",
       "26    106289.868435\n",
       "27    106714.814600\n",
       "28    109571.007247\n",
       "29    110351.454145\n",
       "dtype: float64"
      ]
     },
     "execution_count": 18,
     "metadata": {},
     "output_type": "execute_result"
    }
   ],
   "source": [
    "log_x = np.log(x)\n",
    "model_2 = sm.ols(\"y~log_x\", data=salary).fit()\n",
    "model_2.predict(salary)"
   ]
  },
  {
   "cell_type": "code",
   "execution_count": 19,
   "id": "dc7e209f",
   "metadata": {},
   "outputs": [
    {
     "data": {
      "text/html": [
       "<table class=\"simpletable\">\n",
       "<caption>OLS Regression Results</caption>\n",
       "<tr>\n",
       "  <th>Dep. Variable:</th>            <td>y</td>        <th>  R-squared:         </th> <td>   0.854</td>\n",
       "</tr>\n",
       "<tr>\n",
       "  <th>Model:</th>                   <td>OLS</td>       <th>  Adj. R-squared:    </th> <td>   0.849</td>\n",
       "</tr>\n",
       "<tr>\n",
       "  <th>Method:</th>             <td>Least Squares</td>  <th>  F-statistic:       </th> <td>   163.6</td>\n",
       "</tr>\n",
       "<tr>\n",
       "  <th>Date:</th>             <td>Mon, 06 Jun 2022</td> <th>  Prob (F-statistic):</th> <td>3.25e-13</td>\n",
       "</tr>\n",
       "<tr>\n",
       "  <th>Time:</th>                 <td>12:06:50</td>     <th>  Log-Likelihood:    </th> <td> -319.77</td>\n",
       "</tr>\n",
       "<tr>\n",
       "  <th>No. Observations:</th>      <td>    30</td>      <th>  AIC:               </th> <td>   643.5</td>\n",
       "</tr>\n",
       "<tr>\n",
       "  <th>Df Residuals:</th>          <td>    28</td>      <th>  BIC:               </th> <td>   646.3</td>\n",
       "</tr>\n",
       "<tr>\n",
       "  <th>Df Model:</th>              <td>     1</td>      <th>                     </th>     <td> </td>   \n",
       "</tr>\n",
       "<tr>\n",
       "  <th>Covariance Type:</th>      <td>nonrobust</td>    <th>                     </th>     <td> </td>   \n",
       "</tr>\n",
       "</table>\n",
       "<table class=\"simpletable\">\n",
       "<tr>\n",
       "      <td></td>         <th>coef</th>     <th>std err</th>      <th>t</th>      <th>P>|t|</th>  <th>[0.025</th>    <th>0.975]</th>  \n",
       "</tr>\n",
       "<tr>\n",
       "  <th>Intercept</th> <td> 1.493e+04</td> <td> 5156.226</td> <td>    2.895</td> <td> 0.007</td> <td> 4365.921</td> <td> 2.55e+04</td>\n",
       "</tr>\n",
       "<tr>\n",
       "  <th>log_x</th>     <td> 4.058e+04</td> <td> 3172.453</td> <td>   12.792</td> <td> 0.000</td> <td> 3.41e+04</td> <td> 4.71e+04</td>\n",
       "</tr>\n",
       "</table>\n",
       "<table class=\"simpletable\">\n",
       "<tr>\n",
       "  <th>Omnibus:</th>       <td> 1.094</td> <th>  Durbin-Watson:     </th> <td>   0.512</td>\n",
       "</tr>\n",
       "<tr>\n",
       "  <th>Prob(Omnibus):</th> <td> 0.579</td> <th>  Jarque-Bera (JB):  </th> <td>   0.908</td>\n",
       "</tr>\n",
       "<tr>\n",
       "  <th>Skew:</th>          <td> 0.156</td> <th>  Prob(JB):          </th> <td>   0.635</td>\n",
       "</tr>\n",
       "<tr>\n",
       "  <th>Kurtosis:</th>      <td> 2.207</td> <th>  Cond. No.          </th> <td>    5.76</td>\n",
       "</tr>\n",
       "</table><br/><br/>Notes:<br/>[1] Standard Errors assume that the covariance matrix of the errors is correctly specified."
      ],
      "text/plain": [
       "<class 'statsmodels.iolib.summary.Summary'>\n",
       "\"\"\"\n",
       "                            OLS Regression Results                            \n",
       "==============================================================================\n",
       "Dep. Variable:                      y   R-squared:                       0.854\n",
       "Model:                            OLS   Adj. R-squared:                  0.849\n",
       "Method:                 Least Squares   F-statistic:                     163.6\n",
       "Date:                Mon, 06 Jun 2022   Prob (F-statistic):           3.25e-13\n",
       "Time:                        12:06:50   Log-Likelihood:                -319.77\n",
       "No. Observations:                  30   AIC:                             643.5\n",
       "Df Residuals:                      28   BIC:                             646.3\n",
       "Df Model:                           1                                         \n",
       "Covariance Type:            nonrobust                                         \n",
       "==============================================================================\n",
       "                 coef    std err          t      P>|t|      [0.025      0.975]\n",
       "------------------------------------------------------------------------------\n",
       "Intercept   1.493e+04   5156.226      2.895      0.007    4365.921    2.55e+04\n",
       "log_x       4.058e+04   3172.453     12.792      0.000    3.41e+04    4.71e+04\n",
       "==============================================================================\n",
       "Omnibus:                        1.094   Durbin-Watson:                   0.512\n",
       "Prob(Omnibus):                  0.579   Jarque-Bera (JB):                0.908\n",
       "Skew:                           0.156   Prob(JB):                        0.635\n",
       "Kurtosis:                       2.207   Cond. No.                         5.76\n",
       "==============================================================================\n",
       "\n",
       "Notes:\n",
       "[1] Standard Errors assume that the covariance matrix of the errors is correctly specified.\n",
       "\"\"\""
      ]
     },
     "execution_count": 19,
     "metadata": {},
     "output_type": "execute_result"
    }
   ],
   "source": [
    "model_2.summary()"
   ]
  },
  {
   "cell_type": "markdown",
   "id": "2b6ea5a3",
   "metadata": {},
   "source": [
    "# 3 - Log Transformation of y"
   ]
  },
  {
   "cell_type": "code",
   "execution_count": 20,
   "id": "28b94065",
   "metadata": {},
   "outputs": [
    {
     "data": {
      "text/plain": [
       "0     10.645400\n",
       "1     10.670491\n",
       "2     10.695581\n",
       "3     10.758308\n",
       "4     10.783398\n",
       "5     10.871215\n",
       "6     10.883761\n",
       "7     10.908851\n",
       "8     10.908851\n",
       "9     10.971578\n",
       "10    10.996668\n",
       "11    11.009213\n",
       "12    11.009213\n",
       "13    11.021759\n",
       "14    11.071940\n",
       "15    11.122121\n",
       "16    11.147212\n",
       "17    11.172302\n",
       "18    11.247574\n",
       "19    11.260119\n",
       "20    11.360482\n",
       "21    11.398117\n",
       "22    11.498480\n",
       "23    11.536116\n",
       "24    11.598842\n",
       "25    11.636478\n",
       "26    11.699204\n",
       "27    11.711750\n",
       "28    11.799567\n",
       "29    11.824657\n",
       "dtype: float64"
      ]
     },
     "execution_count": 20,
     "metadata": {},
     "output_type": "execute_result"
    }
   ],
   "source": [
    "log_y = np.log(y)\n",
    "model_3 = sm.ols(\"log_y~x\", data=salary).fit()\n",
    "model_3.predict(salary)"
   ]
  },
  {
   "cell_type": "code",
   "execution_count": 21,
   "id": "137acabb",
   "metadata": {},
   "outputs": [
    {
     "data": {
      "text/html": [
       "<table class=\"simpletable\">\n",
       "<caption>OLS Regression Results</caption>\n",
       "<tr>\n",
       "  <th>Dep. Variable:</th>          <td>log_y</td>      <th>  R-squared:         </th> <td>   0.932</td>\n",
       "</tr>\n",
       "<tr>\n",
       "  <th>Model:</th>                   <td>OLS</td>       <th>  Adj. R-squared:    </th> <td>   0.930</td>\n",
       "</tr>\n",
       "<tr>\n",
       "  <th>Method:</th>             <td>Least Squares</td>  <th>  F-statistic:       </th> <td>   383.6</td>\n",
       "</tr>\n",
       "<tr>\n",
       "  <th>Date:</th>             <td>Mon, 06 Jun 2022</td> <th>  Prob (F-statistic):</th> <td>7.03e-18</td>\n",
       "</tr>\n",
       "<tr>\n",
       "  <th>Time:</th>                 <td>12:07:43</td>     <th>  Log-Likelihood:    </th> <td>  28.183</td>\n",
       "</tr>\n",
       "<tr>\n",
       "  <th>No. Observations:</th>      <td>    30</td>      <th>  AIC:               </th> <td>  -52.37</td>\n",
       "</tr>\n",
       "<tr>\n",
       "  <th>Df Residuals:</th>          <td>    28</td>      <th>  BIC:               </th> <td>  -49.56</td>\n",
       "</tr>\n",
       "<tr>\n",
       "  <th>Df Model:</th>              <td>     1</td>      <th>                     </th>     <td> </td>   \n",
       "</tr>\n",
       "<tr>\n",
       "  <th>Covariance Type:</th>      <td>nonrobust</td>    <th>                     </th>     <td> </td>   \n",
       "</tr>\n",
       "</table>\n",
       "<table class=\"simpletable\">\n",
       "<tr>\n",
       "      <td></td>         <th>coef</th>     <th>std err</th>      <th>t</th>      <th>P>|t|</th>  <th>[0.025</th>    <th>0.975]</th>  \n",
       "</tr>\n",
       "<tr>\n",
       "  <th>Intercept</th> <td>   10.5074</td> <td>    0.038</td> <td>  273.327</td> <td> 0.000</td> <td>   10.429</td> <td>   10.586</td>\n",
       "</tr>\n",
       "<tr>\n",
       "  <th>x</th>         <td>    0.1255</td> <td>    0.006</td> <td>   19.585</td> <td> 0.000</td> <td>    0.112</td> <td>    0.139</td>\n",
       "</tr>\n",
       "</table>\n",
       "<table class=\"simpletable\">\n",
       "<tr>\n",
       "  <th>Omnibus:</th>       <td> 0.826</td> <th>  Durbin-Watson:     </th> <td>   1.438</td>\n",
       "</tr>\n",
       "<tr>\n",
       "  <th>Prob(Omnibus):</th> <td> 0.661</td> <th>  Jarque-Bera (JB):  </th> <td>   0.812</td>\n",
       "</tr>\n",
       "<tr>\n",
       "  <th>Skew:</th>          <td> 0.187</td> <th>  Prob(JB):          </th> <td>   0.666</td>\n",
       "</tr>\n",
       "<tr>\n",
       "  <th>Kurtosis:</th>      <td> 2.286</td> <th>  Cond. No.          </th> <td>    13.2</td>\n",
       "</tr>\n",
       "</table><br/><br/>Notes:<br/>[1] Standard Errors assume that the covariance matrix of the errors is correctly specified."
      ],
      "text/plain": [
       "<class 'statsmodels.iolib.summary.Summary'>\n",
       "\"\"\"\n",
       "                            OLS Regression Results                            \n",
       "==============================================================================\n",
       "Dep. Variable:                  log_y   R-squared:                       0.932\n",
       "Model:                            OLS   Adj. R-squared:                  0.930\n",
       "Method:                 Least Squares   F-statistic:                     383.6\n",
       "Date:                Mon, 06 Jun 2022   Prob (F-statistic):           7.03e-18\n",
       "Time:                        12:07:43   Log-Likelihood:                 28.183\n",
       "No. Observations:                  30   AIC:                            -52.37\n",
       "Df Residuals:                      28   BIC:                            -49.56\n",
       "Df Model:                           1                                         \n",
       "Covariance Type:            nonrobust                                         \n",
       "==============================================================================\n",
       "                 coef    std err          t      P>|t|      [0.025      0.975]\n",
       "------------------------------------------------------------------------------\n",
       "Intercept     10.5074      0.038    273.327      0.000      10.429      10.586\n",
       "x              0.1255      0.006     19.585      0.000       0.112       0.139\n",
       "==============================================================================\n",
       "Omnibus:                        0.826   Durbin-Watson:                   1.438\n",
       "Prob(Omnibus):                  0.661   Jarque-Bera (JB):                0.812\n",
       "Skew:                           0.187   Prob(JB):                        0.666\n",
       "Kurtosis:                       2.286   Cond. No.                         13.2\n",
       "==============================================================================\n",
       "\n",
       "Notes:\n",
       "[1] Standard Errors assume that the covariance matrix of the errors is correctly specified.\n",
       "\"\"\""
      ]
     },
     "execution_count": 21,
     "metadata": {},
     "output_type": "execute_result"
    }
   ],
   "source": [
    "model_3.summary()"
   ]
  },
  {
   "cell_type": "markdown",
   "id": "837cbb7e",
   "metadata": {},
   "source": [
    "# 4 - Log Transformation of x and y"
   ]
  },
  {
   "cell_type": "code",
   "execution_count": 22,
   "id": "3ae68aa0",
   "metadata": {},
   "outputs": [
    {
     "data": {
      "text/plain": [
       "0     10.381616\n",
       "1     10.475515\n",
       "2     10.555951\n",
       "3     10.717653\n",
       "4     10.771226\n",
       "5     10.926505\n",
       "6     10.945561\n",
       "7     10.981837\n",
       "8     10.981837\n",
       "9     11.063442\n",
       "10    11.093033\n",
       "11    11.107264\n",
       "12    11.107264\n",
       "13    11.121143\n",
       "14    11.173468\n",
       "15    11.221335\n",
       "16    11.243821\n",
       "17    11.265443\n",
       "18    11.325724\n",
       "19    11.335171\n",
       "20    11.405524\n",
       "21    11.429791\n",
       "22    11.489804\n",
       "23    11.510753\n",
       "24    11.544023\n",
       "25    11.563079\n",
       "26    11.593469\n",
       "27    11.599355\n",
       "28    11.638915\n",
       "29    11.649725\n",
       "dtype: float64"
      ]
     },
     "execution_count": 22,
     "metadata": {},
     "output_type": "execute_result"
    }
   ],
   "source": [
    "model_4 = sm.ols(\"log_y~log_x\", data=salary).fit()\n",
    "model_4.predict(salary)"
   ]
  },
  {
   "cell_type": "code",
   "execution_count": 23,
   "id": "457cedc8",
   "metadata": {},
   "outputs": [
    {
     "data": {
      "text/html": [
       "<table class=\"simpletable\">\n",
       "<caption>OLS Regression Results</caption>\n",
       "<tr>\n",
       "  <th>Dep. Variable:</th>          <td>log_y</td>      <th>  R-squared:         </th> <td>   0.905</td>\n",
       "</tr>\n",
       "<tr>\n",
       "  <th>Model:</th>                   <td>OLS</td>       <th>  Adj. R-squared:    </th> <td>   0.902</td>\n",
       "</tr>\n",
       "<tr>\n",
       "  <th>Method:</th>             <td>Least Squares</td>  <th>  F-statistic:       </th> <td>   267.4</td>\n",
       "</tr>\n",
       "<tr>\n",
       "  <th>Date:</th>             <td>Mon, 06 Jun 2022</td> <th>  Prob (F-statistic):</th> <td>7.40e-16</td>\n",
       "</tr>\n",
       "<tr>\n",
       "  <th>Time:</th>                 <td>12:08:37</td>     <th>  Log-Likelihood:    </th> <td>  23.209</td>\n",
       "</tr>\n",
       "<tr>\n",
       "  <th>No. Observations:</th>      <td>    30</td>      <th>  AIC:               </th> <td>  -42.42</td>\n",
       "</tr>\n",
       "<tr>\n",
       "  <th>Df Residuals:</th>          <td>    28</td>      <th>  BIC:               </th> <td>  -39.61</td>\n",
       "</tr>\n",
       "<tr>\n",
       "  <th>Df Model:</th>              <td>     1</td>      <th>                     </th>     <td> </td>   \n",
       "</tr>\n",
       "<tr>\n",
       "  <th>Covariance Type:</th>      <td>nonrobust</td>    <th>                     </th>     <td> </td>   \n",
       "</tr>\n",
       "</table>\n",
       "<table class=\"simpletable\">\n",
       "<tr>\n",
       "      <td></td>         <th>coef</th>     <th>std err</th>      <th>t</th>      <th>P>|t|</th>  <th>[0.025</th>    <th>0.975]</th>  \n",
       "</tr>\n",
       "<tr>\n",
       "  <th>Intercept</th> <td>   10.3280</td> <td>    0.056</td> <td>  184.868</td> <td> 0.000</td> <td>   10.214</td> <td>   10.442</td>\n",
       "</tr>\n",
       "<tr>\n",
       "  <th>log_x</th>     <td>    0.5621</td> <td>    0.034</td> <td>   16.353</td> <td> 0.000</td> <td>    0.492</td> <td>    0.632</td>\n",
       "</tr>\n",
       "</table>\n",
       "<table class=\"simpletable\">\n",
       "<tr>\n",
       "  <th>Omnibus:</th>       <td> 0.102</td> <th>  Durbin-Watson:     </th> <td>   0.988</td>\n",
       "</tr>\n",
       "<tr>\n",
       "  <th>Prob(Omnibus):</th> <td> 0.950</td> <th>  Jarque-Bera (JB):  </th> <td>   0.297</td>\n",
       "</tr>\n",
       "<tr>\n",
       "  <th>Skew:</th>          <td> 0.093</td> <th>  Prob(JB):          </th> <td>   0.862</td>\n",
       "</tr>\n",
       "<tr>\n",
       "  <th>Kurtosis:</th>      <td> 2.549</td> <th>  Cond. No.          </th> <td>    5.76</td>\n",
       "</tr>\n",
       "</table><br/><br/>Notes:<br/>[1] Standard Errors assume that the covariance matrix of the errors is correctly specified."
      ],
      "text/plain": [
       "<class 'statsmodels.iolib.summary.Summary'>\n",
       "\"\"\"\n",
       "                            OLS Regression Results                            \n",
       "==============================================================================\n",
       "Dep. Variable:                  log_y   R-squared:                       0.905\n",
       "Model:                            OLS   Adj. R-squared:                  0.902\n",
       "Method:                 Least Squares   F-statistic:                     267.4\n",
       "Date:                Mon, 06 Jun 2022   Prob (F-statistic):           7.40e-16\n",
       "Time:                        12:08:37   Log-Likelihood:                 23.209\n",
       "No. Observations:                  30   AIC:                            -42.42\n",
       "Df Residuals:                      28   BIC:                            -39.61\n",
       "Df Model:                           1                                         \n",
       "Covariance Type:            nonrobust                                         \n",
       "==============================================================================\n",
       "                 coef    std err          t      P>|t|      [0.025      0.975]\n",
       "------------------------------------------------------------------------------\n",
       "Intercept     10.3280      0.056    184.868      0.000      10.214      10.442\n",
       "log_x          0.5621      0.034     16.353      0.000       0.492       0.632\n",
       "==============================================================================\n",
       "Omnibus:                        0.102   Durbin-Watson:                   0.988\n",
       "Prob(Omnibus):                  0.950   Jarque-Bera (JB):                0.297\n",
       "Skew:                           0.093   Prob(JB):                        0.862\n",
       "Kurtosis:                       2.549   Cond. No.                         5.76\n",
       "==============================================================================\n",
       "\n",
       "Notes:\n",
       "[1] Standard Errors assume that the covariance matrix of the errors is correctly specified.\n",
       "\"\"\""
      ]
     },
     "execution_count": 23,
     "metadata": {},
     "output_type": "execute_result"
    }
   ],
   "source": [
    "model_4.summary()"
   ]
  },
  {
   "cell_type": "markdown",
   "id": "c37965cb",
   "metadata": {},
   "source": [
    "# 5 - Sq Root Transformation of x"
   ]
  },
  {
   "cell_type": "code",
   "execution_count": 24,
   "id": "fbf0efee",
   "metadata": {},
   "outputs": [
    {
     "data": {
      "text/plain": [
       "0      27470.511884\n",
       "1      31262.287009\n",
       "2      34771.976586\n",
       "3      42635.056211\n",
       "4      45499.687794\n",
       "5      54617.343293\n",
       "6      55825.518202\n",
       "7      58182.905200\n",
       "8      58182.905200\n",
       "9      63772.383867\n",
       "10     65901.508208\n",
       "11     66945.592049\n",
       "12     66945.592049\n",
       "13     67976.704394\n",
       "14     71980.468875\n",
       "15     75809.903446\n",
       "16     77665.963118\n",
       "17     79485.972499\n",
       "18     84749.033766\n",
       "19     85599.722290\n",
       "20     92164.765553\n",
       "21     94526.218887\n",
       "22    100589.939171\n",
       "23    102784.094601\n",
       "24    106353.652306\n",
       "25    108446.272632\n",
       "26    111857.919142\n",
       "27    112529.386687\n",
       "28    117134.909368\n",
       "29    118421.805716\n",
       "dtype: float64"
      ]
     },
     "execution_count": 24,
     "metadata": {},
     "output_type": "execute_result"
    }
   ],
   "source": [
    "x_sqrt = np.sqrt(x)\n",
    "model_5 = sm.ols(\"y~x_sqrt\", data=salary).fit()\n",
    "model_5.predict(salary)"
   ]
  },
  {
   "cell_type": "code",
   "execution_count": 25,
   "id": "aa656e50",
   "metadata": {},
   "outputs": [
    {
     "data": {
      "text/html": [
       "<table class=\"simpletable\">\n",
       "<caption>OLS Regression Results</caption>\n",
       "<tr>\n",
       "  <th>Dep. Variable:</th>            <td>y</td>        <th>  R-squared:         </th> <td>   0.931</td>\n",
       "</tr>\n",
       "<tr>\n",
       "  <th>Model:</th>                   <td>OLS</td>       <th>  Adj. R-squared:    </th> <td>   0.929</td>\n",
       "</tr>\n",
       "<tr>\n",
       "  <th>Method:</th>             <td>Least Squares</td>  <th>  F-statistic:       </th> <td>   377.8</td>\n",
       "</tr>\n",
       "<tr>\n",
       "  <th>Date:</th>             <td>Mon, 06 Jun 2022</td> <th>  Prob (F-statistic):</th> <td>8.57e-18</td>\n",
       "</tr>\n",
       "<tr>\n",
       "  <th>Time:</th>                 <td>12:09:16</td>     <th>  Log-Likelihood:    </th> <td> -308.52</td>\n",
       "</tr>\n",
       "<tr>\n",
       "  <th>No. Observations:</th>      <td>    30</td>      <th>  AIC:               </th> <td>   621.0</td>\n",
       "</tr>\n",
       "<tr>\n",
       "  <th>Df Residuals:</th>          <td>    28</td>      <th>  BIC:               </th> <td>   623.8</td>\n",
       "</tr>\n",
       "<tr>\n",
       "  <th>Df Model:</th>              <td>     1</td>      <th>                     </th>     <td> </td>   \n",
       "</tr>\n",
       "<tr>\n",
       "  <th>Covariance Type:</th>      <td>nonrobust</td>    <th>                     </th>     <td> </td>   \n",
       "</tr>\n",
       "</table>\n",
       "<table class=\"simpletable\">\n",
       "<tr>\n",
       "      <td></td>         <th>coef</th>     <th>std err</th>      <th>t</th>      <th>P>|t|</th>  <th>[0.025</th>    <th>0.975]</th>  \n",
       "</tr>\n",
       "<tr>\n",
       "  <th>Intercept</th> <td>-1.606e+04</td> <td> 4921.599</td> <td>   -3.262</td> <td> 0.003</td> <td>-2.61e+04</td> <td>-5974.331</td>\n",
       "</tr>\n",
       "<tr>\n",
       "  <th>x_sqrt</th>    <td>  4.15e+04</td> <td> 2135.122</td> <td>   19.437</td> <td> 0.000</td> <td> 3.71e+04</td> <td> 4.59e+04</td>\n",
       "</tr>\n",
       "</table>\n",
       "<table class=\"simpletable\">\n",
       "<tr>\n",
       "  <th>Omnibus:</th>       <td> 0.588</td> <th>  Durbin-Watson:     </th> <td>   1.031</td>\n",
       "</tr>\n",
       "<tr>\n",
       "  <th>Prob(Omnibus):</th> <td> 0.745</td> <th>  Jarque-Bera (JB):  </th> <td>   0.638</td>\n",
       "</tr>\n",
       "<tr>\n",
       "  <th>Skew:</th>          <td> 0.011</td> <th>  Prob(JB):          </th> <td>   0.727</td>\n",
       "</tr>\n",
       "<tr>\n",
       "  <th>Kurtosis:</th>      <td> 2.286</td> <th>  Cond. No.          </th> <td>    9.97</td>\n",
       "</tr>\n",
       "</table><br/><br/>Notes:<br/>[1] Standard Errors assume that the covariance matrix of the errors is correctly specified."
      ],
      "text/plain": [
       "<class 'statsmodels.iolib.summary.Summary'>\n",
       "\"\"\"\n",
       "                            OLS Regression Results                            \n",
       "==============================================================================\n",
       "Dep. Variable:                      y   R-squared:                       0.931\n",
       "Model:                            OLS   Adj. R-squared:                  0.929\n",
       "Method:                 Least Squares   F-statistic:                     377.8\n",
       "Date:                Mon, 06 Jun 2022   Prob (F-statistic):           8.57e-18\n",
       "Time:                        12:09:16   Log-Likelihood:                -308.52\n",
       "No. Observations:                  30   AIC:                             621.0\n",
       "Df Residuals:                      28   BIC:                             623.8\n",
       "Df Model:                           1                                         \n",
       "Covariance Type:            nonrobust                                         \n",
       "==============================================================================\n",
       "                 coef    std err          t      P>|t|      [0.025      0.975]\n",
       "------------------------------------------------------------------------------\n",
       "Intercept  -1.606e+04   4921.599     -3.262      0.003   -2.61e+04   -5974.331\n",
       "x_sqrt       4.15e+04   2135.122     19.437      0.000    3.71e+04    4.59e+04\n",
       "==============================================================================\n",
       "Omnibus:                        0.588   Durbin-Watson:                   1.031\n",
       "Prob(Omnibus):                  0.745   Jarque-Bera (JB):                0.638\n",
       "Skew:                           0.011   Prob(JB):                        0.727\n",
       "Kurtosis:                       2.286   Cond. No.                         9.97\n",
       "==============================================================================\n",
       "\n",
       "Notes:\n",
       "[1] Standard Errors assume that the covariance matrix of the errors is correctly specified.\n",
       "\"\"\""
      ]
     },
     "execution_count": 25,
     "metadata": {},
     "output_type": "execute_result"
    }
   ],
   "source": [
    "model_5.summary()"
   ]
  },
  {
   "cell_type": "markdown",
   "id": "d3c1b8fc",
   "metadata": {},
   "source": [
    "# 6 - Sq Root Transformation of y"
   ]
  },
  {
   "cell_type": "code",
   "execution_count": 26,
   "id": "c3b42e22",
   "metadata": {},
   "outputs": [
    {
     "data": {
      "text/plain": [
       "0     199.462407\n",
       "1     202.873713\n",
       "2     206.285019\n",
       "3     214.813286\n",
       "4     218.224592\n",
       "5     230.164164\n",
       "6     231.869818\n",
       "7     235.281124\n",
       "8     235.281124\n",
       "9     243.809390\n",
       "10    247.220696\n",
       "11    248.926350\n",
       "12    248.926350\n",
       "13    250.632003\n",
       "14    257.454616\n",
       "15    264.277228\n",
       "16    267.688535\n",
       "17    271.099841\n",
       "18    281.333761\n",
       "19    283.039414\n",
       "20    296.684639\n",
       "21    301.801599\n",
       "22    315.446825\n",
       "23    320.563784\n",
       "24    329.092050\n",
       "25    334.209010\n",
       "26    342.737276\n",
       "27    344.442929\n",
       "28    356.382502\n",
       "29    359.793808\n",
       "dtype: float64"
      ]
     },
     "execution_count": 26,
     "metadata": {},
     "output_type": "execute_result"
    }
   ],
   "source": [
    "y_sqrt = np.sqrt(y)\n",
    "model_6 = sm.ols(\"y_sqrt~x\", data=salary).fit()\n",
    "model_6.predict(salary)"
   ]
  },
  {
   "cell_type": "code",
   "execution_count": 27,
   "id": "7ee061b4",
   "metadata": {},
   "outputs": [
    {
     "data": {
      "text/html": [
       "<table class=\"simpletable\">\n",
       "<caption>OLS Regression Results</caption>\n",
       "<tr>\n",
       "  <th>Dep. Variable:</th>         <td>y_sqrt</td>      <th>  R-squared:         </th> <td>   0.950</td>\n",
       "</tr>\n",
       "<tr>\n",
       "  <th>Model:</th>                   <td>OLS</td>       <th>  Adj. R-squared:    </th> <td>   0.948</td>\n",
       "</tr>\n",
       "<tr>\n",
       "  <th>Method:</th>             <td>Least Squares</td>  <th>  F-statistic:       </th> <td>   530.2</td>\n",
       "</tr>\n",
       "<tr>\n",
       "  <th>Date:</th>             <td>Mon, 06 Jun 2022</td> <th>  Prob (F-statistic):</th> <td>9.78e-20</td>\n",
       "</tr>\n",
       "<tr>\n",
       "  <th>Time:</th>                 <td>12:09:57</td>     <th>  Log-Likelihood:    </th> <td> -114.33</td>\n",
       "</tr>\n",
       "<tr>\n",
       "  <th>No. Observations:</th>      <td>    30</td>      <th>  AIC:               </th> <td>   232.7</td>\n",
       "</tr>\n",
       "<tr>\n",
       "  <th>Df Residuals:</th>          <td>    28</td>      <th>  BIC:               </th> <td>   235.5</td>\n",
       "</tr>\n",
       "<tr>\n",
       "  <th>Df Model:</th>              <td>     1</td>      <th>                     </th>     <td> </td>   \n",
       "</tr>\n",
       "<tr>\n",
       "  <th>Covariance Type:</th>      <td>nonrobust</td>    <th>                     </th>     <td> </td>   \n",
       "</tr>\n",
       "</table>\n",
       "<table class=\"simpletable\">\n",
       "<tr>\n",
       "      <td></td>         <th>coef</th>     <th>std err</th>      <th>t</th>      <th>P>|t|</th>  <th>[0.025</th>    <th>0.975]</th>  \n",
       "</tr>\n",
       "<tr>\n",
       "  <th>Intercept</th> <td>  180.7002</td> <td>    4.446</td> <td>   40.646</td> <td> 0.000</td> <td>  171.594</td> <td>  189.807</td>\n",
       "</tr>\n",
       "<tr>\n",
       "  <th>x</th>         <td>   17.0565</td> <td>    0.741</td> <td>   23.025</td> <td> 0.000</td> <td>   15.539</td> <td>   18.574</td>\n",
       "</tr>\n",
       "</table>\n",
       "<table class=\"simpletable\">\n",
       "<tr>\n",
       "  <th>Omnibus:</th>       <td> 2.621</td> <th>  Durbin-Watson:     </th> <td>   1.610</td>\n",
       "</tr>\n",
       "<tr>\n",
       "  <th>Prob(Omnibus):</th> <td> 0.270</td> <th>  Jarque-Bera (JB):  </th> <td>   1.906</td>\n",
       "</tr>\n",
       "<tr>\n",
       "  <th>Skew:</th>          <td> 0.439</td> <th>  Prob(JB):          </th> <td>   0.386</td>\n",
       "</tr>\n",
       "<tr>\n",
       "  <th>Kurtosis:</th>      <td> 2.131</td> <th>  Cond. No.          </th> <td>    13.2</td>\n",
       "</tr>\n",
       "</table><br/><br/>Notes:<br/>[1] Standard Errors assume that the covariance matrix of the errors is correctly specified."
      ],
      "text/plain": [
       "<class 'statsmodels.iolib.summary.Summary'>\n",
       "\"\"\"\n",
       "                            OLS Regression Results                            \n",
       "==============================================================================\n",
       "Dep. Variable:                 y_sqrt   R-squared:                       0.950\n",
       "Model:                            OLS   Adj. R-squared:                  0.948\n",
       "Method:                 Least Squares   F-statistic:                     530.2\n",
       "Date:                Mon, 06 Jun 2022   Prob (F-statistic):           9.78e-20\n",
       "Time:                        12:09:57   Log-Likelihood:                -114.33\n",
       "No. Observations:                  30   AIC:                             232.7\n",
       "Df Residuals:                      28   BIC:                             235.5\n",
       "Df Model:                           1                                         \n",
       "Covariance Type:            nonrobust                                         \n",
       "==============================================================================\n",
       "                 coef    std err          t      P>|t|      [0.025      0.975]\n",
       "------------------------------------------------------------------------------\n",
       "Intercept    180.7002      4.446     40.646      0.000     171.594     189.807\n",
       "x             17.0565      0.741     23.025      0.000      15.539      18.574\n",
       "==============================================================================\n",
       "Omnibus:                        2.621   Durbin-Watson:                   1.610\n",
       "Prob(Omnibus):                  0.270   Jarque-Bera (JB):                1.906\n",
       "Skew:                           0.439   Prob(JB):                        0.386\n",
       "Kurtosis:                       2.131   Cond. No.                         13.2\n",
       "==============================================================================\n",
       "\n",
       "Notes:\n",
       "[1] Standard Errors assume that the covariance matrix of the errors is correctly specified.\n",
       "\"\"\""
      ]
     },
     "execution_count": 27,
     "metadata": {},
     "output_type": "execute_result"
    }
   ],
   "source": [
    "model_6.summary()"
   ]
  },
  {
   "cell_type": "markdown",
   "id": "63be2d4d",
   "metadata": {},
   "source": [
    "# 7 - Sq Root Transformation of x and y"
   ]
  },
  {
   "cell_type": "code",
   "execution_count": 28,
   "id": "645dc6f0",
   "metadata": {},
   "outputs": [
    {
     "data": {
      "text/plain": [
       "0     182.886226\n",
       "1     189.796000\n",
       "2     196.191728\n",
       "3     210.520663\n",
       "4     215.740898\n",
       "5     232.356055\n",
       "6     234.557719\n",
       "7     238.853599\n",
       "8     238.853599\n",
       "9     249.039339\n",
       "10    252.919254\n",
       "11    254.821894\n",
       "12    254.821894\n",
       "13    256.700896\n",
       "14    263.996980\n",
       "15    270.975381\n",
       "16    274.357689\n",
       "17    277.674303\n",
       "18    287.265210\n",
       "19    288.815425\n",
       "20    300.778941\n",
       "21    305.082231\n",
       "22    316.132184\n",
       "23    320.130606\n",
       "24    326.635432\n",
       "25    330.448826\n",
       "26    336.665890\n",
       "27    337.889509\n",
       "28    346.282180\n",
       "29    348.627298\n",
       "dtype: float64"
      ]
     },
     "execution_count": 28,
     "metadata": {},
     "output_type": "execute_result"
    }
   ],
   "source": [
    "model_7 = sm.ols(\"y_sqrt~x_sqrt\", data=salary).fit()\n",
    "model_7.predict(salary)"
   ]
  },
  {
   "cell_type": "code",
   "execution_count": 29,
   "id": "fe04006e",
   "metadata": {},
   "outputs": [
    {
     "data": {
      "text/html": [
       "<table class=\"simpletable\">\n",
       "<caption>OLS Regression Results</caption>\n",
       "<tr>\n",
       "  <th>Dep. Variable:</th>         <td>y_sqrt</td>      <th>  R-squared:         </th> <td>   0.942</td>\n",
       "</tr>\n",
       "<tr>\n",
       "  <th>Model:</th>                   <td>OLS</td>       <th>  Adj. R-squared:    </th> <td>   0.940</td>\n",
       "</tr>\n",
       "<tr>\n",
       "  <th>Method:</th>             <td>Least Squares</td>  <th>  F-statistic:       </th> <td>   454.3</td>\n",
       "</tr>\n",
       "<tr>\n",
       "  <th>Date:</th>             <td>Mon, 06 Jun 2022</td> <th>  Prob (F-statistic):</th> <td>7.58e-19</td>\n",
       "</tr>\n",
       "<tr>\n",
       "  <th>Time:</th>                 <td>12:10:39</td>     <th>  Log-Likelihood:    </th> <td> -116.52</td>\n",
       "</tr>\n",
       "<tr>\n",
       "  <th>No. Observations:</th>      <td>    30</td>      <th>  AIC:               </th> <td>   237.0</td>\n",
       "</tr>\n",
       "<tr>\n",
       "  <th>Df Residuals:</th>          <td>    28</td>      <th>  BIC:               </th> <td>   239.8</td>\n",
       "</tr>\n",
       "<tr>\n",
       "  <th>Df Model:</th>              <td>     1</td>      <th>                     </th>     <td> </td>   \n",
       "</tr>\n",
       "<tr>\n",
       "  <th>Covariance Type:</th>      <td>nonrobust</td>    <th>                     </th>     <td> </td>   \n",
       "</tr>\n",
       "</table>\n",
       "<table class=\"simpletable\">\n",
       "<tr>\n",
       "      <td></td>         <th>coef</th>     <th>std err</th>      <th>t</th>      <th>P>|t|</th>  <th>[0.025</th>    <th>0.975]</th>  \n",
       "</tr>\n",
       "<tr>\n",
       "  <th>Intercept</th> <td>  103.5680</td> <td>    8.178</td> <td>   12.663</td> <td> 0.000</td> <td>   86.815</td> <td>  120.321</td>\n",
       "</tr>\n",
       "<tr>\n",
       "  <th>x_sqrt</th>    <td>   75.6269</td> <td>    3.548</td> <td>   21.315</td> <td> 0.000</td> <td>   68.359</td> <td>   82.895</td>\n",
       "</tr>\n",
       "</table>\n",
       "<table class=\"simpletable\">\n",
       "<tr>\n",
       "  <th>Omnibus:</th>       <td> 0.924</td> <th>  Durbin-Watson:     </th> <td>   1.362</td>\n",
       "</tr>\n",
       "<tr>\n",
       "  <th>Prob(Omnibus):</th> <td> 0.630</td> <th>  Jarque-Bera (JB):  </th> <td>   0.801</td>\n",
       "</tr>\n",
       "<tr>\n",
       "  <th>Skew:</th>          <td> 0.087</td> <th>  Prob(JB):          </th> <td>   0.670</td>\n",
       "</tr>\n",
       "<tr>\n",
       "  <th>Kurtosis:</th>      <td> 2.219</td> <th>  Cond. No.          </th> <td>    9.97</td>\n",
       "</tr>\n",
       "</table><br/><br/>Notes:<br/>[1] Standard Errors assume that the covariance matrix of the errors is correctly specified."
      ],
      "text/plain": [
       "<class 'statsmodels.iolib.summary.Summary'>\n",
       "\"\"\"\n",
       "                            OLS Regression Results                            \n",
       "==============================================================================\n",
       "Dep. Variable:                 y_sqrt   R-squared:                       0.942\n",
       "Model:                            OLS   Adj. R-squared:                  0.940\n",
       "Method:                 Least Squares   F-statistic:                     454.3\n",
       "Date:                Mon, 06 Jun 2022   Prob (F-statistic):           7.58e-19\n",
       "Time:                        12:10:39   Log-Likelihood:                -116.52\n",
       "No. Observations:                  30   AIC:                             237.0\n",
       "Df Residuals:                      28   BIC:                             239.8\n",
       "Df Model:                           1                                         \n",
       "Covariance Type:            nonrobust                                         \n",
       "==============================================================================\n",
       "                 coef    std err          t      P>|t|      [0.025      0.975]\n",
       "------------------------------------------------------------------------------\n",
       "Intercept    103.5680      8.178     12.663      0.000      86.815     120.321\n",
       "x_sqrt        75.6269      3.548     21.315      0.000      68.359      82.895\n",
       "==============================================================================\n",
       "Omnibus:                        0.924   Durbin-Watson:                   1.362\n",
       "Prob(Omnibus):                  0.630   Jarque-Bera (JB):                0.801\n",
       "Skew:                           0.087   Prob(JB):                        0.670\n",
       "Kurtosis:                       2.219   Cond. No.                         9.97\n",
       "==============================================================================\n",
       "\n",
       "Notes:\n",
       "[1] Standard Errors assume that the covariance matrix of the errors is correctly specified.\n",
       "\"\"\""
      ]
     },
     "execution_count": 29,
     "metadata": {},
     "output_type": "execute_result"
    }
   ],
   "source": [
    "model_7.summary()"
   ]
  },
  {
   "cell_type": "markdown",
   "id": "fbdc1ebe",
   "metadata": {},
   "source": [
    "# 8 Reciprocal transformation of x"
   ]
  },
  {
   "cell_type": "code",
   "execution_count": 30,
   "id": "77797f26",
   "metadata": {},
   "outputs": [
    {
     "data": {
      "text/plain": [
       "0     10072.567925\n",
       "1     24564.993646\n",
       "2     35192.772508\n",
       "3     52462.913159\n",
       "4     57172.951518\n",
       "5     68542.009627\n",
       "6     69733.053810\n",
       "7     71891.821391\n",
       "8     71891.821391\n",
       "9     76267.701624\n",
       "10    77703.887956\n",
       "11    78368.124135\n",
       "12    78368.124135\n",
       "13    78999.958549\n",
       "14    81246.480910\n",
       "15    83126.224110\n",
       "16    83955.522581\n",
       "17    84722.232488\n",
       "18    86710.480212\n",
       "19    87003.194461\n",
       "20    89034.975714\n",
       "21    89678.850054\n",
       "22    91156.772592\n",
       "23    91636.646830\n",
       "24    92362.893283\n",
       "25    92759.908011\n",
       "26    93365.877858\n",
       "27    93479.497205\n",
       "28    94213.059004\n",
       "29    94404.683311\n",
       "dtype: float64"
      ]
     },
     "execution_count": 30,
     "metadata": {},
     "output_type": "execute_result"
    }
   ],
   "source": [
    "rec_x = 1/x\n",
    "model_8 = sm.ols(\"y~rec_x\", data=salary).fit()\n",
    "model_8.predict(salary)"
   ]
  },
  {
   "cell_type": "code",
   "execution_count": 31,
   "id": "cf531194",
   "metadata": {},
   "outputs": [
    {
     "data": {
      "text/html": [
       "<table class=\"simpletable\">\n",
       "<caption>OLS Regression Results</caption>\n",
       "<tr>\n",
       "  <th>Dep. Variable:</th>            <td>y</td>        <th>  R-squared:         </th> <td>   0.589</td>\n",
       "</tr>\n",
       "<tr>\n",
       "  <th>Model:</th>                   <td>OLS</td>       <th>  Adj. R-squared:    </th> <td>   0.574</td>\n",
       "</tr>\n",
       "<tr>\n",
       "  <th>Method:</th>             <td>Least Squares</td>  <th>  F-statistic:       </th> <td>   40.06</td>\n",
       "</tr>\n",
       "<tr>\n",
       "  <th>Date:</th>             <td>Mon, 06 Jun 2022</td> <th>  Prob (F-statistic):</th> <td>7.58e-07</td>\n",
       "</tr>\n",
       "<tr>\n",
       "  <th>Time:</th>                 <td>12:11:19</td>     <th>  Log-Likelihood:    </th> <td> -335.30</td>\n",
       "</tr>\n",
       "<tr>\n",
       "  <th>No. Observations:</th>      <td>    30</td>      <th>  AIC:               </th> <td>   674.6</td>\n",
       "</tr>\n",
       "<tr>\n",
       "  <th>Df Residuals:</th>          <td>    28</td>      <th>  BIC:               </th> <td>   677.4</td>\n",
       "</tr>\n",
       "<tr>\n",
       "  <th>Df Model:</th>              <td>     1</td>      <th>                     </th>     <td> </td>   \n",
       "</tr>\n",
       "<tr>\n",
       "  <th>Covariance Type:</th>      <td>nonrobust</td>    <th>                     </th>     <td> </td>   \n",
       "</tr>\n",
       "</table>\n",
       "<table class=\"simpletable\">\n",
       "<tr>\n",
       "      <td></td>         <th>coef</th>     <th>std err</th>      <th>t</th>      <th>P>|t|</th>  <th>[0.025</th>    <th>0.975]</th>  \n",
       "</tr>\n",
       "<tr>\n",
       "  <th>Intercept</th> <td> 1.043e+05</td> <td> 5533.996</td> <td>   18.842</td> <td> 0.000</td> <td> 9.29e+04</td> <td> 1.16e+05</td>\n",
       "</tr>\n",
       "<tr>\n",
       "  <th>rec_x</th>     <td>-1.036e+05</td> <td> 1.64e+04</td> <td>   -6.329</td> <td> 0.000</td> <td>-1.37e+05</td> <td>-7.01e+04</td>\n",
       "</tr>\n",
       "</table>\n",
       "<table class=\"simpletable\">\n",
       "<tr>\n",
       "  <th>Omnibus:</th>       <td>10.284</td> <th>  Durbin-Watson:     </th> <td>   0.220</td>\n",
       "</tr>\n",
       "<tr>\n",
       "  <th>Prob(Omnibus):</th> <td> 0.006</td> <th>  Jarque-Bera (JB):  </th> <td>   2.740</td>\n",
       "</tr>\n",
       "<tr>\n",
       "  <th>Skew:</th>          <td> 0.290</td> <th>  Prob(JB):          </th> <td>   0.254</td>\n",
       "</tr>\n",
       "<tr>\n",
       "  <th>Kurtosis:</th>      <td> 1.638</td> <th>  Cond. No.          </th> <td>    5.40</td>\n",
       "</tr>\n",
       "</table><br/><br/>Notes:<br/>[1] Standard Errors assume that the covariance matrix of the errors is correctly specified."
      ],
      "text/plain": [
       "<class 'statsmodels.iolib.summary.Summary'>\n",
       "\"\"\"\n",
       "                            OLS Regression Results                            \n",
       "==============================================================================\n",
       "Dep. Variable:                      y   R-squared:                       0.589\n",
       "Model:                            OLS   Adj. R-squared:                  0.574\n",
       "Method:                 Least Squares   F-statistic:                     40.06\n",
       "Date:                Mon, 06 Jun 2022   Prob (F-statistic):           7.58e-07\n",
       "Time:                        12:11:19   Log-Likelihood:                -335.30\n",
       "No. Observations:                  30   AIC:                             674.6\n",
       "Df Residuals:                      28   BIC:                             677.4\n",
       "Df Model:                           1                                         \n",
       "Covariance Type:            nonrobust                                         \n",
       "==============================================================================\n",
       "                 coef    std err          t      P>|t|      [0.025      0.975]\n",
       "------------------------------------------------------------------------------\n",
       "Intercept   1.043e+05   5533.996     18.842      0.000    9.29e+04    1.16e+05\n",
       "rec_x      -1.036e+05   1.64e+04     -6.329      0.000   -1.37e+05   -7.01e+04\n",
       "==============================================================================\n",
       "Omnibus:                       10.284   Durbin-Watson:                   0.220\n",
       "Prob(Omnibus):                  0.006   Jarque-Bera (JB):                2.740\n",
       "Skew:                           0.290   Prob(JB):                        0.254\n",
       "Kurtosis:                       1.638   Cond. No.                         5.40\n",
       "==============================================================================\n",
       "\n",
       "Notes:\n",
       "[1] Standard Errors assume that the covariance matrix of the errors is correctly specified.\n",
       "\"\"\""
      ]
     },
     "execution_count": 31,
     "metadata": {},
     "output_type": "execute_result"
    }
   ],
   "source": [
    "model_8.summary()"
   ]
  },
  {
   "cell_type": "markdown",
   "id": "d7129c2a",
   "metadata": {},
   "source": [
    "# 9 Reciprocal transformation of y"
   ]
  },
  {
   "cell_type": "code",
   "execution_count": 32,
   "id": "370b5c47",
   "metadata": {},
   "outputs": [
    {
     "data": {
      "text/plain": [
       "0     0.000023\n",
       "1     0.000022\n",
       "2     0.000022\n",
       "3     0.000021\n",
       "4     0.000021\n",
       "5     0.000019\n",
       "6     0.000019\n",
       "7     0.000019\n",
       "8     0.000019\n",
       "9     0.000018\n",
       "10    0.000018\n",
       "11    0.000017\n",
       "12    0.000017\n",
       "13    0.000017\n",
       "14    0.000016\n",
       "15    0.000016\n",
       "16    0.000015\n",
       "17    0.000015\n",
       "18    0.000014\n",
       "19    0.000014\n",
       "20    0.000012\n",
       "21    0.000012\n",
       "22    0.000010\n",
       "23    0.000010\n",
       "24    0.000009\n",
       "25    0.000008\n",
       "26    0.000007\n",
       "27    0.000007\n",
       "28    0.000006\n",
       "29    0.000006\n",
       "dtype: float64"
      ]
     },
     "execution_count": 32,
     "metadata": {},
     "output_type": "execute_result"
    }
   ],
   "source": [
    "rec_y = 1/y\n",
    "model_9 = sm.ols(\"rec_y~x\", data=salary).fit()\n",
    "model_9.predict(salary)"
   ]
  },
  {
   "cell_type": "code",
   "execution_count": 33,
   "id": "5b66d747",
   "metadata": {},
   "outputs": [
    {
     "data": {
      "text/html": [
       "<table class=\"simpletable\">\n",
       "<caption>OLS Regression Results</caption>\n",
       "<tr>\n",
       "  <th>Dep. Variable:</th>          <td>rec_y</td>      <th>  R-squared:         </th> <td>   0.861</td>\n",
       "</tr>\n",
       "<tr>\n",
       "  <th>Model:</th>                   <td>OLS</td>       <th>  Adj. R-squared:    </th> <td>   0.856</td>\n",
       "</tr>\n",
       "<tr>\n",
       "  <th>Method:</th>             <td>Least Squares</td>  <th>  F-statistic:       </th> <td>   173.2</td>\n",
       "</tr>\n",
       "<tr>\n",
       "  <th>Date:</th>             <td>Mon, 06 Jun 2022</td> <th>  Prob (F-statistic):</th> <td>1.63e-13</td>\n",
       "</tr>\n",
       "<tr>\n",
       "  <th>Time:</th>                 <td>12:11:50</td>     <th>  Log-Likelihood:    </th> <td>  350.83</td>\n",
       "</tr>\n",
       "<tr>\n",
       "  <th>No. Observations:</th>      <td>    30</td>      <th>  AIC:               </th> <td>  -697.7</td>\n",
       "</tr>\n",
       "<tr>\n",
       "  <th>Df Residuals:</th>          <td>    28</td>      <th>  BIC:               </th> <td>  -694.9</td>\n",
       "</tr>\n",
       "<tr>\n",
       "  <th>Df Model:</th>              <td>     1</td>      <th>                     </th>     <td> </td>   \n",
       "</tr>\n",
       "<tr>\n",
       "  <th>Covariance Type:</th>      <td>nonrobust</td>    <th>                     </th>     <td> </td>   \n",
       "</tr>\n",
       "</table>\n",
       "<table class=\"simpletable\">\n",
       "<tr>\n",
       "      <td></td>         <th>coef</th>     <th>std err</th>      <th>t</th>      <th>P>|t|</th>  <th>[0.025</th>    <th>0.975]</th>  \n",
       "</tr>\n",
       "<tr>\n",
       "  <th>Intercept</th> <td> 2.454e-05</td> <td>  8.2e-07</td> <td>   29.913</td> <td> 0.000</td> <td> 2.29e-05</td> <td> 2.62e-05</td>\n",
       "</tr>\n",
       "<tr>\n",
       "  <th>x</th>         <td>-1.799e-06</td> <td> 1.37e-07</td> <td>  -13.162</td> <td> 0.000</td> <td>-2.08e-06</td> <td>-1.52e-06</td>\n",
       "</tr>\n",
       "</table>\n",
       "<table class=\"simpletable\">\n",
       "<tr>\n",
       "  <th>Omnibus:</th>       <td> 1.760</td> <th>  Durbin-Watson:     </th> <td>   1.137</td>\n",
       "</tr>\n",
       "<tr>\n",
       "  <th>Prob(Omnibus):</th> <td> 0.415</td> <th>  Jarque-Bera (JB):  </th> <td>   1.380</td>\n",
       "</tr>\n",
       "<tr>\n",
       "  <th>Skew:</th>          <td> 0.516</td> <th>  Prob(JB):          </th> <td>   0.502</td>\n",
       "</tr>\n",
       "<tr>\n",
       "  <th>Kurtosis:</th>      <td> 2.802</td> <th>  Cond. No.          </th> <td>    13.2</td>\n",
       "</tr>\n",
       "</table><br/><br/>Notes:<br/>[1] Standard Errors assume that the covariance matrix of the errors is correctly specified."
      ],
      "text/plain": [
       "<class 'statsmodels.iolib.summary.Summary'>\n",
       "\"\"\"\n",
       "                            OLS Regression Results                            \n",
       "==============================================================================\n",
       "Dep. Variable:                  rec_y   R-squared:                       0.861\n",
       "Model:                            OLS   Adj. R-squared:                  0.856\n",
       "Method:                 Least Squares   F-statistic:                     173.2\n",
       "Date:                Mon, 06 Jun 2022   Prob (F-statistic):           1.63e-13\n",
       "Time:                        12:11:50   Log-Likelihood:                 350.83\n",
       "No. Observations:                  30   AIC:                            -697.7\n",
       "Df Residuals:                      28   BIC:                            -694.9\n",
       "Df Model:                           1                                         \n",
       "Covariance Type:            nonrobust                                         \n",
       "==============================================================================\n",
       "                 coef    std err          t      P>|t|      [0.025      0.975]\n",
       "------------------------------------------------------------------------------\n",
       "Intercept   2.454e-05    8.2e-07     29.913      0.000    2.29e-05    2.62e-05\n",
       "x          -1.799e-06   1.37e-07    -13.162      0.000   -2.08e-06   -1.52e-06\n",
       "==============================================================================\n",
       "Omnibus:                        1.760   Durbin-Watson:                   1.137\n",
       "Prob(Omnibus):                  0.415   Jarque-Bera (JB):                1.380\n",
       "Skew:                           0.516   Prob(JB):                        0.502\n",
       "Kurtosis:                       2.802   Cond. No.                         13.2\n",
       "==============================================================================\n",
       "\n",
       "Notes:\n",
       "[1] Standard Errors assume that the covariance matrix of the errors is correctly specified.\n",
       "\"\"\""
      ]
     },
     "execution_count": 33,
     "metadata": {},
     "output_type": "execute_result"
    }
   ],
   "source": [
    "model_9.summary()"
   ]
  },
  {
   "cell_type": "markdown",
   "id": "cd4f948b",
   "metadata": {},
   "source": [
    "# 10 Reciprocal transformation of x and y"
   ]
  },
  {
   "cell_type": "code",
   "execution_count": 35,
   "id": "67e25d92",
   "metadata": {},
   "outputs": [
    {
     "data": {
      "text/plain": [
       "0     0.000030\n",
       "1     0.000027\n",
       "2     0.000024\n",
       "3     0.000020\n",
       "4     0.000019\n",
       "5     0.000017\n",
       "6     0.000016\n",
       "7     0.000016\n",
       "8     0.000016\n",
       "9     0.000015\n",
       "10    0.000015\n",
       "11    0.000014\n",
       "12    0.000014\n",
       "13    0.000014\n",
       "14    0.000014\n",
       "15    0.000013\n",
       "16    0.000013\n",
       "17    0.000013\n",
       "18    0.000013\n",
       "19    0.000012\n",
       "20    0.000012\n",
       "21    0.000012\n",
       "22    0.000012\n",
       "23    0.000011\n",
       "24    0.000011\n",
       "25    0.000011\n",
       "26    0.000011\n",
       "27    0.000011\n",
       "28    0.000011\n",
       "29    0.000011\n",
       "dtype: float64"
      ]
     },
     "execution_count": 35,
     "metadata": {},
     "output_type": "execute_result"
    }
   ],
   "source": [
    "model_10 = sm.ols(\"rec_y~rec_x\", data=salary).fit()\n",
    "model_10.predict(salary)"
   ]
  },
  {
   "cell_type": "code",
   "execution_count": 36,
   "id": "9b4b8745",
   "metadata": {},
   "outputs": [
    {
     "data": {
      "text/html": [
       "<table class=\"simpletable\">\n",
       "<caption>OLS Regression Results</caption>\n",
       "<tr>\n",
       "  <th>Dep. Variable:</th>          <td>rec_y</td>      <th>  R-squared:         </th> <td>   0.770</td>\n",
       "</tr>\n",
       "<tr>\n",
       "  <th>Model:</th>                   <td>OLS</td>       <th>  Adj. R-squared:    </th> <td>   0.762</td>\n",
       "</tr>\n",
       "<tr>\n",
       "  <th>Method:</th>             <td>Least Squares</td>  <th>  F-statistic:       </th> <td>   93.95</td>\n",
       "</tr>\n",
       "<tr>\n",
       "  <th>Date:</th>             <td>Mon, 06 Jun 2022</td> <th>  Prob (F-statistic):</th> <td>1.91e-10</td>\n",
       "</tr>\n",
       "<tr>\n",
       "  <th>Time:</th>                 <td>12:13:31</td>     <th>  Log-Likelihood:    </th> <td>  343.31</td>\n",
       "</tr>\n",
       "<tr>\n",
       "  <th>No. Observations:</th>      <td>    30</td>      <th>  AIC:               </th> <td>  -682.6</td>\n",
       "</tr>\n",
       "<tr>\n",
       "  <th>Df Residuals:</th>          <td>    28</td>      <th>  BIC:               </th> <td>  -679.8</td>\n",
       "</tr>\n",
       "<tr>\n",
       "  <th>Df Model:</th>              <td>     1</td>      <th>                     </th>     <td> </td>   \n",
       "</tr>\n",
       "<tr>\n",
       "  <th>Covariance Type:</th>      <td>nonrobust</td>    <th>                     </th>     <td> </td>   \n",
       "</tr>\n",
       "</table>\n",
       "<table class=\"simpletable\">\n",
       "<tr>\n",
       "      <td></td>         <th>coef</th>     <th>std err</th>      <th>t</th>      <th>P>|t|</th>  <th>[0.025</th>    <th>0.975]</th>  \n",
       "</tr>\n",
       "<tr>\n",
       "  <th>Intercept</th> <td> 8.488e-06</td> <td>  8.3e-07</td> <td>   10.227</td> <td> 0.000</td> <td> 6.79e-06</td> <td> 1.02e-05</td>\n",
       "</tr>\n",
       "<tr>\n",
       "  <th>rec_x</th>     <td>  2.38e-05</td> <td> 2.46e-06</td> <td>    9.693</td> <td> 0.000</td> <td> 1.88e-05</td> <td> 2.88e-05</td>\n",
       "</tr>\n",
       "</table>\n",
       "<table class=\"simpletable\">\n",
       "<tr>\n",
       "  <th>Omnibus:</th>       <td> 0.611</td> <th>  Durbin-Watson:     </th> <td>   0.662</td>\n",
       "</tr>\n",
       "<tr>\n",
       "  <th>Prob(Omnibus):</th> <td> 0.737</td> <th>  Jarque-Bera (JB):  </th> <td>   0.657</td>\n",
       "</tr>\n",
       "<tr>\n",
       "  <th>Skew:</th>          <td> 0.075</td> <th>  Prob(JB):          </th> <td>   0.720</td>\n",
       "</tr>\n",
       "<tr>\n",
       "  <th>Kurtosis:</th>      <td> 2.290</td> <th>  Cond. No.          </th> <td>    5.40</td>\n",
       "</tr>\n",
       "</table><br/><br/>Notes:<br/>[1] Standard Errors assume that the covariance matrix of the errors is correctly specified."
      ],
      "text/plain": [
       "<class 'statsmodels.iolib.summary.Summary'>\n",
       "\"\"\"\n",
       "                            OLS Regression Results                            \n",
       "==============================================================================\n",
       "Dep. Variable:                  rec_y   R-squared:                       0.770\n",
       "Model:                            OLS   Adj. R-squared:                  0.762\n",
       "Method:                 Least Squares   F-statistic:                     93.95\n",
       "Date:                Mon, 06 Jun 2022   Prob (F-statistic):           1.91e-10\n",
       "Time:                        12:13:31   Log-Likelihood:                 343.31\n",
       "No. Observations:                  30   AIC:                            -682.6\n",
       "Df Residuals:                      28   BIC:                            -679.8\n",
       "Df Model:                           1                                         \n",
       "Covariance Type:            nonrobust                                         \n",
       "==============================================================================\n",
       "                 coef    std err          t      P>|t|      [0.025      0.975]\n",
       "------------------------------------------------------------------------------\n",
       "Intercept   8.488e-06    8.3e-07     10.227      0.000    6.79e-06    1.02e-05\n",
       "rec_x        2.38e-05   2.46e-06      9.693      0.000    1.88e-05    2.88e-05\n",
       "==============================================================================\n",
       "Omnibus:                        0.611   Durbin-Watson:                   0.662\n",
       "Prob(Omnibus):                  0.737   Jarque-Bera (JB):                0.657\n",
       "Skew:                           0.075   Prob(JB):                        0.720\n",
       "Kurtosis:                       2.290   Cond. No.                         5.40\n",
       "==============================================================================\n",
       "\n",
       "Notes:\n",
       "[1] Standard Errors assume that the covariance matrix of the errors is correctly specified.\n",
       "\"\"\""
      ]
     },
     "execution_count": 36,
     "metadata": {},
     "output_type": "execute_result"
    }
   ],
   "source": [
    "model_10.summary()"
   ]
  },
  {
   "cell_type": "markdown",
   "id": "63f2436f",
   "metadata": {},
   "source": [
    "# 11 Exponential Tanformation of x"
   ]
  },
  {
   "cell_type": "code",
   "execution_count": 37,
   "id": "fc5e5943",
   "metadata": {},
   "outputs": [
    {
     "data": {
      "text/plain": [
       "0      22113.737641\n",
       "1      27571.351643\n",
       "2      32393.631286\n",
       "3      42515.873861\n",
       "4      45999.913164\n",
       "5      56481.735994\n",
       "6      57808.410084\n",
       "7      60359.002486\n",
       "8      60359.002486\n",
       "9      66218.429445\n",
       "10     68385.470977\n",
       "11     69435.813479\n",
       "12     69435.813479\n",
       "13     70465.354801\n",
       "14     74392.733927\n",
       "15     78050.050029\n",
       "16     79789.803073\n",
       "17     81475.803916\n",
       "18     86245.516703\n",
       "19     87002.324681\n",
       "20     92719.028993\n",
       "21     94724.303748\n",
       "22     99758.495068\n",
       "23    101541.336258\n",
       "24    104400.031238\n",
       "25    106052.710199\n",
       "26    108711.749102\n",
       "27    109230.062068\n",
       "28    112742.110725\n",
       "29    113710.399451\n",
       "dtype: float64"
      ]
     },
     "execution_count": 37,
     "metadata": {},
     "output_type": "execute_result"
    }
   ],
   "source": [
    "exp_x = x**(1/5)\n",
    "model_11 = sm.ols(\"y~exp_x\", data=salary).fit()\n",
    "model_11.predict(salary)"
   ]
  },
  {
   "cell_type": "code",
   "execution_count": 38,
   "id": "76509427",
   "metadata": {},
   "outputs": [
    {
     "data": {
      "text/html": [
       "<table class=\"simpletable\">\n",
       "<caption>OLS Regression Results</caption>\n",
       "<tr>\n",
       "  <th>Dep. Variable:</th>            <td>y</td>        <th>  R-squared:         </th> <td>   0.891</td>\n",
       "</tr>\n",
       "<tr>\n",
       "  <th>Model:</th>                   <td>OLS</td>       <th>  Adj. R-squared:    </th> <td>   0.887</td>\n",
       "</tr>\n",
       "<tr>\n",
       "  <th>Method:</th>             <td>Least Squares</td>  <th>  F-statistic:       </th> <td>   229.3</td>\n",
       "</tr>\n",
       "<tr>\n",
       "  <th>Date:</th>             <td>Mon, 06 Jun 2022</td> <th>  Prob (F-statistic):</th> <td>5.14e-15</td>\n",
       "</tr>\n",
       "<tr>\n",
       "  <th>Time:</th>                 <td>12:14:07</td>     <th>  Log-Likelihood:    </th> <td> -315.35</td>\n",
       "</tr>\n",
       "<tr>\n",
       "  <th>No. Observations:</th>      <td>    30</td>      <th>  AIC:               </th> <td>   634.7</td>\n",
       "</tr>\n",
       "<tr>\n",
       "  <th>Df Residuals:</th>          <td>    28</td>      <th>  BIC:               </th> <td>   637.5</td>\n",
       "</tr>\n",
       "<tr>\n",
       "  <th>Df Model:</th>              <td>     1</td>      <th>                     </th>     <td> </td>   \n",
       "</tr>\n",
       "<tr>\n",
       "  <th>Covariance Type:</th>      <td>nonrobust</td>    <th>                     </th>     <td> </td>   \n",
       "</tr>\n",
       "</table>\n",
       "<table class=\"simpletable\">\n",
       "<tr>\n",
       "      <td></td>         <th>coef</th>     <th>std err</th>      <th>t</th>      <th>P>|t|</th>  <th>[0.025</th>    <th>0.975]</th>  \n",
       "</tr>\n",
       "<tr>\n",
       "  <th>Intercept</th> <td>-1.385e+05</td> <td> 1.43e+04</td> <td>   -9.711</td> <td> 0.000</td> <td>-1.68e+05</td> <td>-1.09e+05</td>\n",
       "</tr>\n",
       "<tr>\n",
       "  <th>exp_x</th>     <td> 1.576e+05</td> <td> 1.04e+04</td> <td>   15.144</td> <td> 0.000</td> <td> 1.36e+05</td> <td> 1.79e+05</td>\n",
       "</tr>\n",
       "</table>\n",
       "<table class=\"simpletable\">\n",
       "<tr>\n",
       "  <th>Omnibus:</th>       <td> 0.572</td> <th>  Durbin-Watson:     </th> <td>   0.670</td>\n",
       "</tr>\n",
       "<tr>\n",
       "  <th>Prob(Omnibus):</th> <td> 0.751</td> <th>  Jarque-Bera (JB):  </th> <td>   0.643</td>\n",
       "</tr>\n",
       "<tr>\n",
       "  <th>Skew:</th>          <td> 0.092</td> <th>  Prob(JB):          </th> <td>   0.725</td>\n",
       "</tr>\n",
       "<tr>\n",
       "  <th>Kurtosis:</th>      <td> 2.307</td> <th>  Cond. No.          </th> <td>    17.8</td>\n",
       "</tr>\n",
       "</table><br/><br/>Notes:<br/>[1] Standard Errors assume that the covariance matrix of the errors is correctly specified."
      ],
      "text/plain": [
       "<class 'statsmodels.iolib.summary.Summary'>\n",
       "\"\"\"\n",
       "                            OLS Regression Results                            \n",
       "==============================================================================\n",
       "Dep. Variable:                      y   R-squared:                       0.891\n",
       "Model:                            OLS   Adj. R-squared:                  0.887\n",
       "Method:                 Least Squares   F-statistic:                     229.3\n",
       "Date:                Mon, 06 Jun 2022   Prob (F-statistic):           5.14e-15\n",
       "Time:                        12:14:07   Log-Likelihood:                -315.35\n",
       "No. Observations:                  30   AIC:                             634.7\n",
       "Df Residuals:                      28   BIC:                             637.5\n",
       "Df Model:                           1                                         \n",
       "Covariance Type:            nonrobust                                         \n",
       "==============================================================================\n",
       "                 coef    std err          t      P>|t|      [0.025      0.975]\n",
       "------------------------------------------------------------------------------\n",
       "Intercept  -1.385e+05   1.43e+04     -9.711      0.000   -1.68e+05   -1.09e+05\n",
       "exp_x       1.576e+05   1.04e+04     15.144      0.000    1.36e+05    1.79e+05\n",
       "==============================================================================\n",
       "Omnibus:                        0.572   Durbin-Watson:                   0.670\n",
       "Prob(Omnibus):                  0.751   Jarque-Bera (JB):                0.643\n",
       "Skew:                           0.092   Prob(JB):                        0.725\n",
       "Kurtosis:                       2.307   Cond. No.                         17.8\n",
       "==============================================================================\n",
       "\n",
       "Notes:\n",
       "[1] Standard Errors assume that the covariance matrix of the errors is correctly specified.\n",
       "\"\"\""
      ]
     },
     "execution_count": 38,
     "metadata": {},
     "output_type": "execute_result"
    }
   ],
   "source": [
    "model_11.summary()"
   ]
  },
  {
   "cell_type": "markdown",
   "id": "65ccc8a1",
   "metadata": {},
   "source": [
    "# 12 Exponential Tanformation of y"
   ]
  },
  {
   "cell_type": "code",
   "execution_count": 39,
   "id": "2c82b611",
   "metadata": {},
   "outputs": [
    {
     "data": {
      "text/plain": [
       "0      8.376201\n",
       "1      8.423334\n",
       "2      8.470466\n",
       "3      8.588298\n",
       "4      8.635431\n",
       "5      8.800396\n",
       "6      8.823962\n",
       "7      8.871095\n",
       "8      8.871095\n",
       "9      8.988927\n",
       "10     9.036059\n",
       "11     9.059626\n",
       "12     9.059626\n",
       "13     9.083192\n",
       "14     9.177458\n",
       "15     9.271723\n",
       "16     9.318856\n",
       "17     9.365989\n",
       "18     9.507387\n",
       "19     9.530953\n",
       "20     9.719484\n",
       "21     9.790184\n",
       "22     9.978715\n",
       "23    10.049414\n",
       "24    10.167246\n",
       "25    10.237945\n",
       "26    10.355777\n",
       "27    10.379343\n",
       "28    10.544308\n",
       "29    10.591440\n",
       "dtype: float64"
      ]
     },
     "execution_count": 39,
     "metadata": {},
     "output_type": "execute_result"
    }
   ],
   "source": [
    "exp_y = y**(1/5)\n",
    "model_12 = sm.ols(\"exp_y~x\", data=salary).fit()\n",
    "model_12.predict(salary)"
   ]
  },
  {
   "cell_type": "code",
   "execution_count": 40,
   "id": "cab88994",
   "metadata": {},
   "outputs": [
    {
     "data": {
      "text/html": [
       "<table class=\"simpletable\">\n",
       "<caption>OLS Regression Results</caption>\n",
       "<tr>\n",
       "  <th>Dep. Variable:</th>          <td>exp_y</td>      <th>  R-squared:         </th> <td>   0.941</td>\n",
       "</tr>\n",
       "<tr>\n",
       "  <th>Model:</th>                   <td>OLS</td>       <th>  Adj. R-squared:    </th> <td>   0.938</td>\n",
       "</tr>\n",
       "<tr>\n",
       "  <th>Method:</th>             <td>Least Squares</td>  <th>  F-statistic:       </th> <td>   442.6</td>\n",
       "</tr>\n",
       "<tr>\n",
       "  <th>Date:</th>             <td>Mon, 06 Jun 2022</td> <th>  Prob (F-statistic):</th> <td>1.07e-18</td>\n",
       "</tr>\n",
       "<tr>\n",
       "  <th>Time:</th>                 <td>12:15:37</td>     <th>  Log-Likelihood:    </th> <td>  11.416</td>\n",
       "</tr>\n",
       "<tr>\n",
       "  <th>No. Observations:</th>      <td>    30</td>      <th>  AIC:               </th> <td>  -18.83</td>\n",
       "</tr>\n",
       "<tr>\n",
       "  <th>Df Residuals:</th>          <td>    28</td>      <th>  BIC:               </th> <td>  -16.03</td>\n",
       "</tr>\n",
       "<tr>\n",
       "  <th>Df Model:</th>              <td>     1</td>      <th>                     </th>     <td> </td>   \n",
       "</tr>\n",
       "<tr>\n",
       "  <th>Covariance Type:</th>      <td>nonrobust</td>    <th>                     </th>     <td> </td>   \n",
       "</tr>\n",
       "</table>\n",
       "<table class=\"simpletable\">\n",
       "<tr>\n",
       "      <td></td>         <th>coef</th>     <th>std err</th>      <th>t</th>      <th>P>|t|</th>  <th>[0.025</th>    <th>0.975]</th>  \n",
       "</tr>\n",
       "<tr>\n",
       "  <th>Intercept</th> <td>    8.1170</td> <td>    0.067</td> <td>  120.743</td> <td> 0.000</td> <td>    7.979</td> <td>    8.255</td>\n",
       "</tr>\n",
       "<tr>\n",
       "  <th>x</th>         <td>    0.2357</td> <td>    0.011</td> <td>   21.038</td> <td> 0.000</td> <td>    0.213</td> <td>    0.259</td>\n",
       "</tr>\n",
       "</table>\n",
       "<table class=\"simpletable\">\n",
       "<tr>\n",
       "  <th>Omnibus:</th>       <td> 1.603</td> <th>  Durbin-Watson:     </th> <td>   1.513</td>\n",
       "</tr>\n",
       "<tr>\n",
       "  <th>Prob(Omnibus):</th> <td> 0.449</td> <th>  Jarque-Bera (JB):  </th> <td>   1.290</td>\n",
       "</tr>\n",
       "<tr>\n",
       "  <th>Skew:</th>          <td> 0.317</td> <th>  Prob(JB):          </th> <td>   0.525</td>\n",
       "</tr>\n",
       "<tr>\n",
       "  <th>Kurtosis:</th>      <td> 2.207</td> <th>  Cond. No.          </th> <td>    13.2</td>\n",
       "</tr>\n",
       "</table><br/><br/>Notes:<br/>[1] Standard Errors assume that the covariance matrix of the errors is correctly specified."
      ],
      "text/plain": [
       "<class 'statsmodels.iolib.summary.Summary'>\n",
       "\"\"\"\n",
       "                            OLS Regression Results                            \n",
       "==============================================================================\n",
       "Dep. Variable:                  exp_y   R-squared:                       0.941\n",
       "Model:                            OLS   Adj. R-squared:                  0.938\n",
       "Method:                 Least Squares   F-statistic:                     442.6\n",
       "Date:                Mon, 06 Jun 2022   Prob (F-statistic):           1.07e-18\n",
       "Time:                        12:15:37   Log-Likelihood:                 11.416\n",
       "No. Observations:                  30   AIC:                            -18.83\n",
       "Df Residuals:                      28   BIC:                            -16.03\n",
       "Df Model:                           1                                         \n",
       "Covariance Type:            nonrobust                                         \n",
       "==============================================================================\n",
       "                 coef    std err          t      P>|t|      [0.025      0.975]\n",
       "------------------------------------------------------------------------------\n",
       "Intercept      8.1170      0.067    120.743      0.000       7.979       8.255\n",
       "x              0.2357      0.011     21.038      0.000       0.213       0.259\n",
       "==============================================================================\n",
       "Omnibus:                        1.603   Durbin-Watson:                   1.513\n",
       "Prob(Omnibus):                  0.449   Jarque-Bera (JB):                1.290\n",
       "Skew:                           0.317   Prob(JB):                        0.525\n",
       "Kurtosis:                       2.207   Cond. No.                         13.2\n",
       "==============================================================================\n",
       "\n",
       "Notes:\n",
       "[1] Standard Errors assume that the covariance matrix of the errors is correctly specified.\n",
       "\"\"\""
      ]
     },
     "execution_count": 40,
     "metadata": {},
     "output_type": "execute_result"
    }
   ],
   "source": [
    "model_12.summary()"
   ]
  },
  {
   "cell_type": "markdown",
   "id": "942e62f6",
   "metadata": {},
   "source": [
    "# 13 Exponential Tanformation of x and y"
   ]
  },
  {
   "cell_type": "code",
   "execution_count": 41,
   "id": "3b505f44",
   "metadata": {},
   "outputs": [
    {
     "data": {
      "text/plain": [
       "0      7.989630\n",
       "1      8.129339\n",
       "2      8.252783\n",
       "3      8.511901\n",
       "4      8.601088\n",
       "5      8.869410\n",
       "6      8.903371\n",
       "7      8.968663\n",
       "8      8.968663\n",
       "9      9.118658\n",
       "10     9.174131\n",
       "11     9.201019\n",
       "12     9.201019\n",
       "13     9.227374\n",
       "14     9.327910\n",
       "15     9.421533\n",
       "16     9.466069\n",
       "17     9.509228\n",
       "18     9.631327\n",
       "19     9.650700\n",
       "20     9.797041\n",
       "21     9.848374\n",
       "22     9.977243\n",
       "23    10.022882\n",
       "24    10.096061\n",
       "25    10.138368\n",
       "26    10.206436\n",
       "27    10.219704\n",
       "28    10.309608\n",
       "29    10.334395\n",
       "dtype: float64"
      ]
     },
     "execution_count": 41,
     "metadata": {},
     "output_type": "execute_result"
    }
   ],
   "source": [
    "model_13 = sm.ols(\"exp_y~exp_x\", data=salary).fit()\n",
    "model_13.predict(salary)"
   ]
  },
  {
   "cell_type": "code",
   "execution_count": 42,
   "id": "22c594cd",
   "metadata": {},
   "outputs": [
    {
     "data": {
      "text/html": [
       "<table class=\"simpletable\">\n",
       "<caption>OLS Regression Results</caption>\n",
       "<tr>\n",
       "  <th>Dep. Variable:</th>          <td>exp_y</td>      <th>  R-squared:         </th> <td>   0.923</td>\n",
       "</tr>\n",
       "<tr>\n",
       "  <th>Model:</th>                   <td>OLS</td>       <th>  Adj. R-squared:    </th> <td>   0.920</td>\n",
       "</tr>\n",
       "<tr>\n",
       "  <th>Method:</th>             <td>Least Squares</td>  <th>  F-statistic:       </th> <td>   335.2</td>\n",
       "</tr>\n",
       "<tr>\n",
       "  <th>Date:</th>             <td>Mon, 06 Jun 2022</td> <th>  Prob (F-statistic):</th> <td>4.07e-17</td>\n",
       "</tr>\n",
       "<tr>\n",
       "  <th>Time:</th>                 <td>12:16:18</td>     <th>  Log-Likelihood:    </th> <td>  7.5289</td>\n",
       "</tr>\n",
       "<tr>\n",
       "  <th>No. Observations:</th>      <td>    30</td>      <th>  AIC:               </th> <td>  -11.06</td>\n",
       "</tr>\n",
       "<tr>\n",
       "  <th>Df Residuals:</th>          <td>    28</td>      <th>  BIC:               </th> <td>  -8.255</td>\n",
       "</tr>\n",
       "<tr>\n",
       "  <th>Df Model:</th>              <td>     1</td>      <th>                     </th>     <td> </td>   \n",
       "</tr>\n",
       "<tr>\n",
       "  <th>Covariance Type:</th>      <td>nonrobust</td>    <th>                     </th>     <td> </td>   \n",
       "</tr>\n",
       "</table>\n",
       "<table class=\"simpletable\">\n",
       "<tr>\n",
       "      <td></td>         <th>coef</th>     <th>std err</th>      <th>t</th>      <th>P>|t|</th>  <th>[0.025</th>    <th>0.975]</th>  \n",
       "</tr>\n",
       "<tr>\n",
       "  <th>Intercept</th> <td>    3.8776</td> <td>    0.302</td> <td>   12.837</td> <td> 0.000</td> <td>    3.259</td> <td>    4.496</td>\n",
       "</tr>\n",
       "<tr>\n",
       "  <th>exp_x</th>     <td>    4.0344</td> <td>    0.220</td> <td>   18.308</td> <td> 0.000</td> <td>    3.583</td> <td>    4.486</td>\n",
       "</tr>\n",
       "</table>\n",
       "<table class=\"simpletable\">\n",
       "<tr>\n",
       "  <th>Omnibus:</th>       <td> 0.183</td> <th>  Durbin-Watson:     </th> <td>   1.126</td>\n",
       "</tr>\n",
       "<tr>\n",
       "  <th>Prob(Omnibus):</th> <td> 0.913</td> <th>  Jarque-Bera (JB):  </th> <td>   0.390</td>\n",
       "</tr>\n",
       "<tr>\n",
       "  <th>Skew:</th>          <td> 0.075</td> <th>  Prob(JB):          </th> <td>   0.823</td>\n",
       "</tr>\n",
       "<tr>\n",
       "  <th>Kurtosis:</th>      <td> 2.461</td> <th>  Cond. No.          </th> <td>    17.8</td>\n",
       "</tr>\n",
       "</table><br/><br/>Notes:<br/>[1] Standard Errors assume that the covariance matrix of the errors is correctly specified."
      ],
      "text/plain": [
       "<class 'statsmodels.iolib.summary.Summary'>\n",
       "\"\"\"\n",
       "                            OLS Regression Results                            \n",
       "==============================================================================\n",
       "Dep. Variable:                  exp_y   R-squared:                       0.923\n",
       "Model:                            OLS   Adj. R-squared:                  0.920\n",
       "Method:                 Least Squares   F-statistic:                     335.2\n",
       "Date:                Mon, 06 Jun 2022   Prob (F-statistic):           4.07e-17\n",
       "Time:                        12:16:18   Log-Likelihood:                 7.5289\n",
       "No. Observations:                  30   AIC:                            -11.06\n",
       "Df Residuals:                      28   BIC:                            -8.255\n",
       "Df Model:                           1                                         \n",
       "Covariance Type:            nonrobust                                         \n",
       "==============================================================================\n",
       "                 coef    std err          t      P>|t|      [0.025      0.975]\n",
       "------------------------------------------------------------------------------\n",
       "Intercept      3.8776      0.302     12.837      0.000       3.259       4.496\n",
       "exp_x          4.0344      0.220     18.308      0.000       3.583       4.486\n",
       "==============================================================================\n",
       "Omnibus:                        0.183   Durbin-Watson:                   1.126\n",
       "Prob(Omnibus):                  0.913   Jarque-Bera (JB):                0.390\n",
       "Skew:                           0.075   Prob(JB):                        0.823\n",
       "Kurtosis:                       2.461   Cond. No.                         17.8\n",
       "==============================================================================\n",
       "\n",
       "Notes:\n",
       "[1] Standard Errors assume that the covariance matrix of the errors is correctly specified.\n",
       "\"\"\""
      ]
     },
     "execution_count": 42,
     "metadata": {},
     "output_type": "execute_result"
    }
   ],
   "source": [
    "model_13.summary()"
   ]
  },
  {
   "cell_type": "markdown",
   "id": "95d1fe9b",
   "metadata": {},
   "source": [
    "# Output Interpretation"
   ]
  },
  {
   "cell_type": "raw",
   "id": "30b17f20",
   "metadata": {},
   "source": [
    "# We will use Model 1 as it has the best R square value (0.957)."
   ]
  }
 ],
 "metadata": {
  "kernelspec": {
   "display_name": "Python 3 (ipykernel)",
   "language": "python",
   "name": "python3"
  },
  "language_info": {
   "codemirror_mode": {
    "name": "ipython",
    "version": 3
   },
   "file_extension": ".py",
   "mimetype": "text/x-python",
   "name": "python",
   "nbconvert_exporter": "python",
   "pygments_lexer": "ipython3",
   "version": "3.9.7"
  }
 },
 "nbformat": 4,
 "nbformat_minor": 5
}
